{
 "cells": [
  {
   "cell_type": "markdown",
   "id": "0165fcc1-1909-4bfe-bc28-64736ad2ae1b",
   "metadata": {},
   "source": [
    "# Keyword Extraction"
   ]
  },
  {
   "cell_type": "code",
   "execution_count": 1,
   "id": "3767f971-6f34-43bc-affc-c5c381ce13dd",
   "metadata": {},
   "outputs": [],
   "source": [
    "import pandas as pd\n",
    "import numpy as np"
   ]
  },
  {
   "cell_type": "code",
   "execution_count": 2,
   "id": "98984069-0edf-4e05-8c0f-6643946dc1ac",
   "metadata": {},
   "outputs": [
    {
     "data": {
      "text/html": [
       "<div>\n",
       "<style scoped>\n",
       "    .dataframe tbody tr th:only-of-type {\n",
       "        vertical-align: middle;\n",
       "    }\n",
       "\n",
       "    .dataframe tbody tr th {\n",
       "        vertical-align: top;\n",
       "    }\n",
       "\n",
       "    .dataframe thead th {\n",
       "        text-align: right;\n",
       "    }\n",
       "</style>\n",
       "<table border=\"1\" class=\"dataframe\">\n",
       "  <thead>\n",
       "    <tr style=\"text-align: right;\">\n",
       "      <th></th>\n",
       "      <th>Id</th>\n",
       "      <th>Name</th>\n",
       "      <th>PublishYear</th>\n",
       "      <th>Language</th>\n",
       "      <th>Description</th>\n",
       "      <th>Title</th>\n",
       "      <th>bow</th>\n",
       "    </tr>\n",
       "  </thead>\n",
       "  <tbody>\n",
       "    <tr>\n",
       "      <th>0</th>\n",
       "      <td>1020396</td>\n",
       "      <td>the gospel of john</td>\n",
       "      <td>1998</td>\n",
       "      <td>NaN</td>\n",
       "      <td>what sets this commentary on the fourth gospel...</td>\n",
       "      <td>the_gospel_of_john</td>\n",
       "      <td>francis_j._moloney michael_glazier</td>\n",
       "    </tr>\n",
       "    <tr>\n",
       "      <th>1</th>\n",
       "      <td>1073868</td>\n",
       "      <td>hanslick on the musically beautiful: sixteen l...</td>\n",
       "      <td>2003</td>\n",
       "      <td>NaN</td>\n",
       "      <td>the sixteen lectures by geoffrey payzant in th...</td>\n",
       "      <td>hanslick_on_the_musically_beautiful:_sixteen_l...</td>\n",
       "      <td>geoffrey_payzant 1-877275-49-2</td>\n",
       "    </tr>\n",
       "    <tr>\n",
       "      <th>2</th>\n",
       "      <td>1025976</td>\n",
       "      <td>microserfs</td>\n",
       "      <td>1997</td>\n",
       "      <td>fre</td>\n",
       "      <td>génération x 1018 n° 2508 qui a connu un gros ...</td>\n",
       "      <td>microserfs</td>\n",
       "      <td>douglas_coupland 10/18 fre</td>\n",
       "    </tr>\n",
       "    <tr>\n",
       "      <th>3</th>\n",
       "      <td>1045943</td>\n",
       "      <td>courir avec des ciseaux</td>\n",
       "      <td>2006</td>\n",
       "      <td>fre</td>\n",
       "      <td>roman autobiographique choc courir avec des ci...</td>\n",
       "      <td>courir_avec_des_ciseaux</td>\n",
       "      <td>augusten_burroughs 10/18 fre</td>\n",
       "    </tr>\n",
       "    <tr>\n",
       "      <th>4</th>\n",
       "      <td>1027805</td>\n",
       "      <td>affinités</td>\n",
       "      <td>2006</td>\n",
       "      <td>fre</td>\n",
       "      <td>pour tromper son ennui une demoiselle de la bo...</td>\n",
       "      <td>affinités</td>\n",
       "      <td>sarah_waters 10/18 fre</td>\n",
       "    </tr>\n",
       "  </tbody>\n",
       "</table>\n",
       "</div>"
      ],
      "text/plain": [
       "        Id                                               Name  PublishYear  \\\n",
       "0  1020396                                 the gospel of john         1998   \n",
       "1  1073868  hanslick on the musically beautiful: sixteen l...         2003   \n",
       "2  1025976                                         microserfs         1997   \n",
       "3  1045943                            courir avec des ciseaux         2006   \n",
       "4  1027805                                          affinités         2006   \n",
       "\n",
       "  Language                                        Description  \\\n",
       "0      NaN  what sets this commentary on the fourth gospel...   \n",
       "1      NaN  the sixteen lectures by geoffrey payzant in th...   \n",
       "2      fre  génération x 1018 n° 2508 qui a connu un gros ...   \n",
       "3      fre  roman autobiographique choc courir avec des ci...   \n",
       "4      fre  pour tromper son ennui une demoiselle de la bo...   \n",
       "\n",
       "                                               Title  \\\n",
       "0                                 the_gospel_of_john   \n",
       "1  hanslick_on_the_musically_beautiful:_sixteen_l...   \n",
       "2                                         microserfs   \n",
       "3                            courir_avec_des_ciseaux   \n",
       "4                                          affinités   \n",
       "\n",
       "                                    bow  \n",
       "0   francis_j._moloney michael_glazier   \n",
       "1       geoffrey_payzant 1-877275-49-2   \n",
       "2            douglas_coupland 10/18 fre  \n",
       "3          augusten_burroughs 10/18 fre  \n",
       "4                sarah_waters 10/18 fre  "
      ]
     },
     "execution_count": 2,
     "metadata": {},
     "output_type": "execute_result"
    }
   ],
   "source": [
    "# Fetch preprocessed data\n",
    "fe_data = pd.read_csv(\"data/preprocessed.csv\")\n",
    "fe_data.head()"
   ]
  },
  {
   "cell_type": "code",
   "execution_count": 3,
   "id": "4e4d754b-d46a-4856-86f7-bc2ca7ca4a1d",
   "metadata": {},
   "outputs": [
    {
     "data": {
      "text/plain": [
       "Id                 0\n",
       "Name              85\n",
       "PublishYear    34403\n",
       "Language       34466\n",
       "Description      435\n",
       "Title            244\n",
       "bow             2433\n",
       "dtype: int64"
      ]
     },
     "execution_count": 3,
     "metadata": {},
     "output_type": "execute_result"
    }
   ],
   "source": [
    "fe_data.shape[0] - fe_data.nunique()"
   ]
  },
  {
   "cell_type": "markdown",
   "id": "9b02c99c-b843-4938-8bf6-94616cf8f24c",
   "metadata": {},
   "source": [
    "---\n",
    "### Consider only English books"
   ]
  },
  {
   "cell_type": "code",
   "execution_count": 4,
   "id": "0c079062-e0d6-4ce0-ab60-d1665ddf46a8",
   "metadata": {},
   "outputs": [],
   "source": [
    "# # Temporary process only english books\n",
    "fe_data = fe_data[fe_data.Language.isin([\"eng\", \"en-US\", \"en-GB\"])].copy()"
   ]
  },
  {
   "cell_type": "code",
   "execution_count": 5,
   "id": "9789eaaa-ec24-44c9-a499-310dcc0feca3",
   "metadata": {},
   "outputs": [],
   "source": [
    "fe_data.drop([\"Language\", \"PublishYear\", \"Title\"], axis=1, inplace=True)"
   ]
  },
  {
   "cell_type": "markdown",
   "id": "25f51cc2-7ba3-495f-a6a8-6b5345f72d35",
   "metadata": {},
   "source": [
    "---\n",
    "### Extract keywords from description using keyBERT"
   ]
  },
  {
   "cell_type": "code",
   "execution_count": 7,
   "id": "18eea85b-7d75-48fc-8921-687527548452",
   "metadata": {},
   "outputs": [],
   "source": [
    "from keybert import KeyBERT\n",
    "kw_model = KeyBERT()\n",
    "\n",
    "def get_keywords(text):\n",
    "    keywords = kw_model.extract_keywords(text, keyphrase_ngram_range=(1, 1), stop_words=\"english\")\n",
    "    keywords = \" \".join([k[0] for k in keywords])\n",
    "    return keywords"
   ]
  },
  {
   "cell_type": "code",
   "execution_count": 8,
   "id": "05f369e4-e040-43fb-82bb-b33875369e94",
   "metadata": {},
   "outputs": [],
   "source": [
    "fe_data[\"keywords\"] = fe_data.Description.apply(get_keywords)"
   ]
  },
  {
   "cell_type": "code",
   "execution_count": 10,
   "id": "b7dd9b1e-277e-4058-8423-1916dab94311",
   "metadata": {},
   "outputs": [
    {
     "data": {
      "text/plain": [
       "12                  memphis egypt delta governor thebes\n",
       "15               proverb picket bells christmas stories\n",
       "21                      emma paris french shes sullivan\n",
       "25    moomintroll comet moominvalley adventures adve...\n",
       "27                     acheron greeks trojan troy helen\n",
       "Name: keywords, dtype: object"
      ]
     },
     "execution_count": 10,
     "metadata": {},
     "output_type": "execute_result"
    }
   ],
   "source": [
    "fe_data.keywords.head()"
   ]
  },
  {
   "cell_type": "code",
   "execution_count": 11,
   "id": "286b5288-2928-41a7-b745-620edbbe9dd3",
   "metadata": {},
   "outputs": [],
   "source": [
    "fe_data[\"keywords\"] = fe_data[['bow', 'keywords']].fillna('').agg(' '.join, axis=1)\n",
    "fe_data.drop(['bow', 'Description'], axis = 1, inplace=True)"
   ]
  },
  {
   "cell_type": "markdown",
   "id": "f5c35088-9507-4bbb-b16e-bc5f33f841aa",
   "metadata": {},
   "source": [
    "---\n",
    "### Remove duplicated book names"
   ]
  },
  {
   "cell_type": "code",
   "execution_count": 12,
   "id": "1a134d00-19bc-4706-9c8f-d1137628df91",
   "metadata": {},
   "outputs": [
    {
     "data": {
      "text/html": [
       "<div>\n",
       "<style scoped>\n",
       "    .dataframe tbody tr th:only-of-type {\n",
       "        vertical-align: middle;\n",
       "    }\n",
       "\n",
       "    .dataframe tbody tr th {\n",
       "        vertical-align: top;\n",
       "    }\n",
       "\n",
       "    .dataframe thead th {\n",
       "        text-align: right;\n",
       "    }\n",
       "</style>\n",
       "<table border=\"1\" class=\"dataframe\">\n",
       "  <thead>\n",
       "    <tr style=\"text-align: right;\">\n",
       "      <th></th>\n",
       "      <th>Id</th>\n",
       "      <th>Name</th>\n",
       "      <th>keywords</th>\n",
       "    </tr>\n",
       "  </thead>\n",
       "  <tbody>\n",
       "    <tr>\n",
       "      <th>3235</th>\n",
       "      <td>1061929</td>\n",
       "      <td>the moon is a harsh mistress</td>\n",
       "      <td>robert_a._heinlein berkley_medallion eng lehr...</td>\n",
       "    </tr>\n",
       "    <tr>\n",
       "      <th>3616</th>\n",
       "      <td>1061923</td>\n",
       "      <td>the moon is a harsh mistress</td>\n",
       "      <td>robert_a._heinlein blackstone_publishing eng ...</td>\n",
       "    </tr>\n",
       "    <tr>\n",
       "      <th>7574</th>\n",
       "      <td>1038823</td>\n",
       "      <td>blood and chocolate</td>\n",
       "      <td>annette_curtis_klause delacorte_press eng wer...</td>\n",
       "    </tr>\n",
       "    <tr>\n",
       "      <th>9045</th>\n",
       "      <td>1098850</td>\n",
       "      <td>decline and fall</td>\n",
       "      <td>evelyn_waugh everyman's_library eng librarian...</td>\n",
       "    </tr>\n",
       "    <tr>\n",
       "      <th>9139</th>\n",
       "      <td>1023491</td>\n",
       "      <td>the remains of the day</td>\n",
       "      <td>kazuo_ishiguro faber_and_faber_ltd. eng steve...</td>\n",
       "    </tr>\n",
       "    <tr>\n",
       "      <th>11884</th>\n",
       "      <td>1037476</td>\n",
       "      <td>the great and secret show (book of the art #1)</td>\n",
       "      <td>book_of_the_art_#1 clive_barker harpercollins_...</td>\n",
       "    </tr>\n",
       "    <tr>\n",
       "      <th>11969</th>\n",
       "      <td>1072552</td>\n",
       "      <td>the tiger who came to tea</td>\n",
       "      <td>judith_kerr harpercollinschildren’sbooks eng ...</td>\n",
       "    </tr>\n",
       "    <tr>\n",
       "      <th>12558</th>\n",
       "      <td>1086403</td>\n",
       "      <td>something for the weekend (leo street #1)</td>\n",
       "      <td>leo_street_#1 pauline_mclynn headline eng leo ...</td>\n",
       "    </tr>\n",
       "    <tr>\n",
       "      <th>20296</th>\n",
       "      <td>1004432</td>\n",
       "      <td>playing with fire (inspector banks, #14)</td>\n",
       "      <td>inspector_banks,_#14 peter_robinson pan_macmil...</td>\n",
       "    </tr>\n",
       "    <tr>\n",
       "      <th>21653</th>\n",
       "      <td>1050062</td>\n",
       "      <td>the anastasia syndrome and other stories</td>\n",
       "      <td>mary_higgins_clark pocket_books eng anastasia...</td>\n",
       "    </tr>\n",
       "    <tr>\n",
       "      <th>26022</th>\n",
       "      <td>1084978</td>\n",
       "      <td>band of brothers: e company, 506th regiment, 1...</td>\n",
       "      <td>stephen_e._ambrose simon_&amp;_schuster,_inc. eng...</td>\n",
       "    </tr>\n",
       "    <tr>\n",
       "      <th>28406</th>\n",
       "      <td>1088041</td>\n",
       "      <td>titanic survivor: the memoirs of violet jessop...</td>\n",
       "      <td>violet_jessop the_history_press_ltd eng titan...</td>\n",
       "    </tr>\n",
       "    <tr>\n",
       "      <th>29489</th>\n",
       "      <td>1004134</td>\n",
       "      <td>the adventures of tom sawyer</td>\n",
       "      <td>mark_twain turtleback_books eng twain twains ...</td>\n",
       "    </tr>\n",
       "    <tr>\n",
       "      <th>33626</th>\n",
       "      <td>1041880</td>\n",
       "      <td>the red and the black</td>\n",
       "      <td>stendhal wordsworth_editions eng priesthood a...</td>\n",
       "    </tr>\n",
       "    <tr>\n",
       "      <th>34488</th>\n",
       "      <td>1097921</td>\n",
       "      <td>india and tibet</td>\n",
       "      <td>francis_younghusband  eng murray reprint 1910...</td>\n",
       "    </tr>\n",
       "  </tbody>\n",
       "</table>\n",
       "</div>"
      ],
      "text/plain": [
       "            Id                                               Name  \\\n",
       "3235   1061929                       the moon is a harsh mistress   \n",
       "3616   1061923                       the moon is a harsh mistress   \n",
       "7574   1038823                                blood and chocolate   \n",
       "9045   1098850                                   decline and fall   \n",
       "9139   1023491                             the remains of the day   \n",
       "11884  1037476     the great and secret show (book of the art #1)   \n",
       "11969  1072552                          the tiger who came to tea   \n",
       "12558  1086403          something for the weekend (leo street #1)   \n",
       "20296  1004432           playing with fire (inspector banks, #14)   \n",
       "21653  1050062           the anastasia syndrome and other stories   \n",
       "26022  1084978  band of brothers: e company, 506th regiment, 1...   \n",
       "28406  1088041  titanic survivor: the memoirs of violet jessop...   \n",
       "29489  1004134                       the adventures of tom sawyer   \n",
       "33626  1041880                              the red and the black   \n",
       "34488  1097921                                    india and tibet   \n",
       "\n",
       "                                                keywords  \n",
       "3235    robert_a._heinlein berkley_medallion eng lehr...  \n",
       "3616    robert_a._heinlein blackstone_publishing eng ...  \n",
       "7574    annette_curtis_klause delacorte_press eng wer...  \n",
       "9045    evelyn_waugh everyman's_library eng librarian...  \n",
       "9139    kazuo_ishiguro faber_and_faber_ltd. eng steve...  \n",
       "11884  book_of_the_art_#1 clive_barker harpercollins_...  \n",
       "11969   judith_kerr harpercollinschildren’sbooks eng ...  \n",
       "12558  leo_street_#1 pauline_mclynn headline eng leo ...  \n",
       "20296  inspector_banks,_#14 peter_robinson pan_macmil...  \n",
       "21653   mary_higgins_clark pocket_books eng anastasia...  \n",
       "26022   stephen_e._ambrose simon_&_schuster,_inc. eng...  \n",
       "28406   violet_jessop the_history_press_ltd eng titan...  \n",
       "29489   mark_twain turtleback_books eng twain twains ...  \n",
       "33626   stendhal wordsworth_editions eng priesthood a...  \n",
       "34488   francis_younghusband  eng murray reprint 1910...  "
      ]
     },
     "execution_count": 12,
     "metadata": {},
     "output_type": "execute_result"
    }
   ],
   "source": [
    "fe_data[fe_data.duplicated(subset=[\"Name\"], keep=\"first\")]"
   ]
  },
  {
   "cell_type": "code",
   "execution_count": 13,
   "id": "ed26c8e5-b1c8-45b8-be52-556e71c362f7",
   "metadata": {},
   "outputs": [],
   "source": [
    "fe_data = fe_data.drop_duplicates(subset=[\"Name\"], keep='first')"
   ]
  },
  {
   "cell_type": "markdown",
   "id": "8b9b5689-7a32-4cb5-827d-611d865794c8",
   "metadata": {},
   "source": [
    "---\n",
    "### Save final dataset"
   ]
  },
  {
   "cell_type": "code",
   "execution_count": 14,
   "id": "5facc9eb-5dc6-4f2b-8a4f-ab046e863844",
   "metadata": {},
   "outputs": [],
   "source": [
    "fe_data.to_csv(\"data/keywords.csv\", sep=\",\", index=False)"
   ]
  }
 ],
 "metadata": {
  "kernelspec": {
   "display_name": "Python 3 (ipykernel)",
   "language": "python",
   "name": "python3"
  },
  "language_info": {
   "codemirror_mode": {
    "name": "ipython",
    "version": 3
   },
   "file_extension": ".py",
   "mimetype": "text/x-python",
   "name": "python",
   "nbconvert_exporter": "python",
   "pygments_lexer": "ipython3",
   "version": "3.8.8"
  }
 },
 "nbformat": 4,
 "nbformat_minor": 5
}
