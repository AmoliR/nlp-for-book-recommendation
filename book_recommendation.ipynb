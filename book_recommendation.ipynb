{
 "cells": [
  {
   "cell_type": "markdown",
   "id": "d05e985b-15c5-461a-a7df-888558835f16",
   "metadata": {},
   "source": [
    "### Work Flow\n",
    "![architecture](images/book_recommendation_engine.svg)"
   ]
  }
 ],
 "metadata": {
  "kernelspec": {
   "display_name": "Python 3 (ipykernel)",
   "language": "python",
   "name": "python3"
  },
  "language_info": {
   "codemirror_mode": {
    "name": "ipython",
    "version": 3
   },
   "file_extension": ".py",
   "mimetype": "text/x-python",
   "name": "python",
   "nbconvert_exporter": "python",
   "pygments_lexer": "ipython3",
   "version": "3.8.8"
  }
 },
 "nbformat": 4,
 "nbformat_minor": 5
}
