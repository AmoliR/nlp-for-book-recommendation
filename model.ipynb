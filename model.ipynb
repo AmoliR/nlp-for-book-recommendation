{
 "cells": [
  {
   "cell_type": "markdown",
   "id": "02a29ca2-9793-43e0-b3e1-b2e8dddfb027",
   "metadata": {},
   "source": [
    "# Text Representation"
   ]
  },
  {
   "cell_type": "code",
   "execution_count": 1,
   "id": "e6eb75ae-dfc9-4ef1-a10e-58ba267cf60e",
   "metadata": {},
   "outputs": [],
   "source": [
    "import pandas as pd"
   ]
  },
  {
   "cell_type": "code",
   "execution_count": 2,
   "id": "b9fbbbb2-85a2-457e-b446-7ad38a0f30a6",
   "metadata": {},
   "outputs": [
    {
     "data": {
      "text/html": [
       "<div>\n",
       "<style scoped>\n",
       "    .dataframe tbody tr th:only-of-type {\n",
       "        vertical-align: middle;\n",
       "    }\n",
       "\n",
       "    .dataframe tbody tr th {\n",
       "        vertical-align: top;\n",
       "    }\n",
       "\n",
       "    .dataframe thead th {\n",
       "        text-align: right;\n",
       "    }\n",
       "</style>\n",
       "<table border=\"1\" class=\"dataframe\">\n",
       "  <thead>\n",
       "    <tr style=\"text-align: right;\">\n",
       "      <th></th>\n",
       "      <th>Id</th>\n",
       "      <th>Name</th>\n",
       "      <th>keywords</th>\n",
       "    </tr>\n",
       "  </thead>\n",
       "  <tbody>\n",
       "    <tr>\n",
       "      <th>0</th>\n",
       "      <td>1030195</td>\n",
       "      <td>morning star</td>\n",
       "      <td>h._rider_haggard 1st_world_library_-_literary...</td>\n",
       "    </tr>\n",
       "    <tr>\n",
       "      <th>1</th>\n",
       "      <td>1090099</td>\n",
       "      <td>kitty's class day and other stories</td>\n",
       "      <td>louisa_may_alcott 1st_world_library_-_literar...</td>\n",
       "    </tr>\n",
       "    <tr>\n",
       "      <th>2</th>\n",
       "      <td>1013522</td>\n",
       "      <td>the art of french kissing</td>\n",
       "      <td>kristin_harmel 5_spot_pub eng emma paris fren...</td>\n",
       "    </tr>\n",
       "    <tr>\n",
       "      <th>3</th>\n",
       "      <td>1003725</td>\n",
       "      <td>comet in moominland (the moomins, #2)</td>\n",
       "      <td>the_moomins,_#2 tove_jansson a_&amp;_c_black eng m...</td>\n",
       "    </tr>\n",
       "    <tr>\n",
       "      <th>4</th>\n",
       "      <td>1099901</td>\n",
       "      <td>the boy who cried horse</td>\n",
       "      <td>terry_deary a_&amp;_c_black en-GB acheron greeks ...</td>\n",
       "    </tr>\n",
       "  </tbody>\n",
       "</table>\n",
       "</div>"
      ],
      "text/plain": [
       "        Id                                   Name  \\\n",
       "0  1030195                           morning star   \n",
       "1  1090099    kitty's class day and other stories   \n",
       "2  1013522              the art of french kissing   \n",
       "3  1003725  comet in moominland (the moomins, #2)   \n",
       "4  1099901                the boy who cried horse   \n",
       "\n",
       "                                            keywords  \n",
       "0   h._rider_haggard 1st_world_library_-_literary...  \n",
       "1   louisa_may_alcott 1st_world_library_-_literar...  \n",
       "2   kristin_harmel 5_spot_pub eng emma paris fren...  \n",
       "3  the_moomins,_#2 tove_jansson a_&_c_black eng m...  \n",
       "4   terry_deary a_&_c_black en-GB acheron greeks ...  "
      ]
     },
     "execution_count": 2,
     "metadata": {},
     "output_type": "execute_result"
    }
   ],
   "source": [
    "# Fetch preprocessed data\n",
    "model_data = pd.read_csv(\"data/keywords.csv\")\n",
    "model_data.head()"
   ]
  },
  {
   "cell_type": "markdown",
   "id": "016bbc90-a579-4353-b0fd-cc6e5d0514a6",
   "metadata": {},
   "source": [
    "---\n",
    "### Vectorize the keywords summary using TF-IDF\n",
    "- Convert the keywords for each book into a numeric vector, based on the frequency of each word in the book's keywords"
   ]
  },
  {
   "cell_type": "code",
   "execution_count": 8,
   "id": "956d3ed1-34ed-4ea6-912c-ac364476d034",
   "metadata": {},
   "outputs": [],
   "source": [
    "from sklearn.feature_extraction.text import TfidfVectorizer\n",
    "# Remove tokens occuring less than 3 times or occur in more than 60% of the documents.\n",
    "tfidf = TfidfVectorizer(min_df=3, max_df=0.6, stop_words=\"english\")\n",
    "tfidf_encoding = tfidf.fit_transform(model_data[\"keywords\"])"
   ]
  },
  {
   "cell_type": "code",
   "execution_count": 14,
   "id": "1e7df3fe-83ef-43f8-8bb0-2c651db28758",
   "metadata": {},
   "outputs": [
    {
     "name": "stdout",
     "output_type": "stream",
     "text": [
      "['aladdin_paperbacks', 'alan_craik', 'alaska', 'alaskan', 'alaskas', 'alastair_reynolds', 'albert_camus', 'album', 'alec', 'alex', 'alexander', 'alexandra', 'alfred', 'alfred_a', 'alfred_a_knopf', 'algeria', 'algonquin_books', 'algorithms', 'alice', 'alices', 'alien', 'aliens', 'allen_lane', 'allied', 'allison_', 'allison_leigh', 'alphabet', 'altamira_press', 'alyson_books', 'amber', 'amelia', 'americas', 'amos_oz', 'amp', 'amy', 'amys', 'analysis', 'ananda_k', 'ancestors', 'ancient', 'andersen', 'andy', 'andy_carpenter_', 'angel', 'angels', 'angie', 'angie_amalfi', 'animal', 'animals', 'anime', 'anita', 'anita_blake', 'anita_shreve', 'ann', 'ann_major', 'anna', 'anne', 'anne_mccaffrey', 'anne_rice', 'anne_tyler', 'annes', 'annette_blair', 'anonymous', 'anorexia', 'anthologies', 'anthology', 'anthony_horowitz', 'anthropological', 'anthropologist', 'anthropologists', 'anthropology', 'antique', 'antique_lover', 'antiques', 'apocalypse', 'apocalyptic', 'apprentice', 'aquaman', 'arc_3_', 'arcadia_publishing', 'arcadia_publishing_', 'archaeological', 'archaeologist', 'archaeologists', 'archaeology', 'archeology', 'archie', 'architect', 'architects', 'architectural', 'architecture', 'archives', 'arctic', 'aristotle', 'arithon', 'armada', 'armstrong', 'army', 'arrow', 'arrow_books']\n"
     ]
    }
   ],
   "source": [
    "# Preview some words in the vocabulary\n",
    "print(tfidf.get_feature_names()[200:300])"
   ]
  }
 ],
 "metadata": {
  "kernelspec": {
   "display_name": "Python 3 (ipykernel)",
   "language": "python",
   "name": "python3"
  },
  "language_info": {
   "codemirror_mode": {
    "name": "ipython",
    "version": 3
   },
   "file_extension": ".py",
   "mimetype": "text/x-python",
   "name": "python",
   "nbconvert_exporter": "python",
   "pygments_lexer": "ipython3",
   "version": "3.8.8"
  }
 },
 "nbformat": 4,
 "nbformat_minor": 5
}
