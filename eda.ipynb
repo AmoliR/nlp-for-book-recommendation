{
 "cells": [
  {
   "cell_type": "code",
   "execution_count": 1,
   "id": "a7b0999a-24f2-4a4c-ae8a-4a13e0e73b9c",
   "metadata": {},
   "outputs": [],
   "source": [
    "import pandas as pd\n",
    "import numpy as np"
   ]
  },
  {
   "cell_type": "code",
   "execution_count": 2,
   "id": "079dd233-6e37-4ca5-b1a7-73cf714759f4",
   "metadata": {},
   "outputs": [
    {
     "data": {
      "text/html": [
       "<div>\n",
       "<style scoped>\n",
       "    .dataframe tbody tr th:only-of-type {\n",
       "        vertical-align: middle;\n",
       "    }\n",
       "\n",
       "    .dataframe tbody tr th {\n",
       "        vertical-align: top;\n",
       "    }\n",
       "\n",
       "    .dataframe thead th {\n",
       "        text-align: right;\n",
       "    }\n",
       "</style>\n",
       "<table border=\"1\" class=\"dataframe\">\n",
       "  <thead>\n",
       "    <tr style=\"text-align: right;\">\n",
       "      <th></th>\n",
       "      <th>Id</th>\n",
       "      <th>Name</th>\n",
       "      <th>Authors</th>\n",
       "      <th>ISBN</th>\n",
       "      <th>Rating</th>\n",
       "      <th>PublishYear</th>\n",
       "      <th>PublishMonth</th>\n",
       "      <th>PublishDay</th>\n",
       "      <th>Publisher</th>\n",
       "      <th>RatingDist5</th>\n",
       "      <th>RatingDist4</th>\n",
       "      <th>RatingDist3</th>\n",
       "      <th>RatingDist2</th>\n",
       "      <th>RatingDist1</th>\n",
       "      <th>RatingDistTotal</th>\n",
       "      <th>CountsOfReview</th>\n",
       "      <th>Language</th>\n",
       "      <th>pagesNumber</th>\n",
       "      <th>Description</th>\n",
       "      <th>Count of text reviews</th>\n",
       "    </tr>\n",
       "  </thead>\n",
       "  <tbody>\n",
       "    <tr>\n",
       "      <th>0</th>\n",
       "      <td>1000000</td>\n",
       "      <td>Flight from Eden</td>\n",
       "      <td>Kathryn A. Graham</td>\n",
       "      <td>0595199402</td>\n",
       "      <td>4.00</td>\n",
       "      <td>2001</td>\n",
       "      <td>1</td>\n",
       "      <td>10</td>\n",
       "      <td>Writer's Showcase Press</td>\n",
       "      <td>5:1</td>\n",
       "      <td>4:1</td>\n",
       "      <td>3:1</td>\n",
       "      <td>2:0</td>\n",
       "      <td>1:0</td>\n",
       "      <td>total:3</td>\n",
       "      <td>1</td>\n",
       "      <td>NaN</td>\n",
       "      <td>380</td>\n",
       "      <td>What could a computer expert, a mercenary with...</td>\n",
       "      <td>1</td>\n",
       "    </tr>\n",
       "    <tr>\n",
       "      <th>1</th>\n",
       "      <td>1000001</td>\n",
       "      <td>Roommates Again</td>\n",
       "      <td>Kathryn O. Galbraith</td>\n",
       "      <td>0689505973</td>\n",
       "      <td>3.20</td>\n",
       "      <td>1994</td>\n",
       "      <td>1</td>\n",
       "      <td>4</td>\n",
       "      <td>Margaret K. McElderry Books</td>\n",
       "      <td>5:0</td>\n",
       "      <td>4:3</td>\n",
       "      <td>3:1</td>\n",
       "      <td>2:0</td>\n",
       "      <td>1:1</td>\n",
       "      <td>total:5</td>\n",
       "      <td>1</td>\n",
       "      <td>NaN</td>\n",
       "      <td>44</td>\n",
       "      <td>During their stay at Camp Sleep-Away, sisters ...</td>\n",
       "      <td>1</td>\n",
       "    </tr>\n",
       "    <tr>\n",
       "      <th>2</th>\n",
       "      <td>1000003</td>\n",
       "      <td>The King At The Door</td>\n",
       "      <td>Brock Cole</td>\n",
       "      <td>0374440417</td>\n",
       "      <td>3.95</td>\n",
       "      <td>1992</td>\n",
       "      <td>31</td>\n",
       "      <td>12</td>\n",
       "      <td>Farrar Straus Giroux</td>\n",
       "      <td>5:5</td>\n",
       "      <td>4:9</td>\n",
       "      <td>3:4</td>\n",
       "      <td>2:1</td>\n",
       "      <td>1:0</td>\n",
       "      <td>total:19</td>\n",
       "      <td>0</td>\n",
       "      <td>NaN</td>\n",
       "      <td>32</td>\n",
       "      <td>A poorly dressed old man appears at an inn and...</td>\n",
       "      <td>0</td>\n",
       "    </tr>\n",
       "    <tr>\n",
       "      <th>3</th>\n",
       "      <td>1000004</td>\n",
       "      <td>Giotto: The Scrovegni Chapel, Padua</td>\n",
       "      <td>Bruce Cole</td>\n",
       "      <td>080761310X</td>\n",
       "      <td>4.47</td>\n",
       "      <td>1993</td>\n",
       "      <td>1</td>\n",
       "      <td>8</td>\n",
       "      <td>George Braziller</td>\n",
       "      <td>5:9</td>\n",
       "      <td>4:5</td>\n",
       "      <td>3:0</td>\n",
       "      <td>2:1</td>\n",
       "      <td>1:0</td>\n",
       "      <td>total:15</td>\n",
       "      <td>2</td>\n",
       "      <td>NaN</td>\n",
       "      <td>118</td>\n",
       "      <td>This beautiful series lavishly illustrates the...</td>\n",
       "      <td>2</td>\n",
       "    </tr>\n",
       "    <tr>\n",
       "      <th>4</th>\n",
       "      <td>1000005</td>\n",
       "      <td>Larky Mavis</td>\n",
       "      <td>Brock Cole</td>\n",
       "      <td>0374343659</td>\n",
       "      <td>3.69</td>\n",
       "      <td>2001</td>\n",
       "      <td>3</td>\n",
       "      <td>8</td>\n",
       "      <td>Farrar, Straus and Giroux (BYR)</td>\n",
       "      <td>5:19</td>\n",
       "      <td>4:12</td>\n",
       "      <td>3:9</td>\n",
       "      <td>2:7</td>\n",
       "      <td>1:4</td>\n",
       "      <td>total:51</td>\n",
       "      <td>8</td>\n",
       "      <td>NaN</td>\n",
       "      <td>32</td>\n",
       "      <td>&lt;b&gt;Another orginal picture-book fairy tale&lt;/b&gt;...</td>\n",
       "      <td>8</td>\n",
       "    </tr>\n",
       "  </tbody>\n",
       "</table>\n",
       "</div>"
      ],
      "text/plain": [
       "        Id                                 Name               Authors  \\\n",
       "0  1000000                     Flight from Eden     Kathryn A. Graham   \n",
       "1  1000001                      Roommates Again  Kathryn O. Galbraith   \n",
       "2  1000003                 The King At The Door            Brock Cole   \n",
       "3  1000004  Giotto: The Scrovegni Chapel, Padua            Bruce Cole   \n",
       "4  1000005                          Larky Mavis            Brock Cole   \n",
       "\n",
       "         ISBN  Rating  PublishYear  PublishMonth  PublishDay  \\\n",
       "0  0595199402    4.00         2001             1          10   \n",
       "1  0689505973    3.20         1994             1           4   \n",
       "2  0374440417    3.95         1992            31          12   \n",
       "3  080761310X    4.47         1993             1           8   \n",
       "4  0374343659    3.69         2001             3           8   \n",
       "\n",
       "                         Publisher RatingDist5 RatingDist4 RatingDist3  \\\n",
       "0          Writer's Showcase Press         5:1         4:1         3:1   \n",
       "1      Margaret K. McElderry Books         5:0         4:3         3:1   \n",
       "2             Farrar Straus Giroux         5:5         4:9         3:4   \n",
       "3                 George Braziller         5:9         4:5         3:0   \n",
       "4  Farrar, Straus and Giroux (BYR)        5:19        4:12         3:9   \n",
       "\n",
       "  RatingDist2 RatingDist1 RatingDistTotal  CountsOfReview Language  \\\n",
       "0         2:0         1:0         total:3               1      NaN   \n",
       "1         2:0         1:1         total:5               1      NaN   \n",
       "2         2:1         1:0        total:19               0      NaN   \n",
       "3         2:1         1:0        total:15               2      NaN   \n",
       "4         2:7         1:4        total:51               8      NaN   \n",
       "\n",
       "   pagesNumber                                        Description  \\\n",
       "0          380  What could a computer expert, a mercenary with...   \n",
       "1           44  During their stay at Camp Sleep-Away, sisters ...   \n",
       "2           32  A poorly dressed old man appears at an inn and...   \n",
       "3          118  This beautiful series lavishly illustrates the...   \n",
       "4           32  <b>Another orginal picture-book fairy tale</b>...   \n",
       "\n",
       "   Count of text reviews  \n",
       "0                      1  \n",
       "1                      1  \n",
       "2                      0  \n",
       "3                      2  \n",
       "4                      8  "
      ]
     },
     "execution_count": 2,
     "metadata": {},
     "output_type": "execute_result"
    }
   ],
   "source": [
    "# Read the data\n",
    "data = pd.read_csv(\"data/goodreads_book.csv\")\n",
    "# Only keep columns we need\n",
    "data.head()     "
   ]
  },
  {
   "cell_type": "code",
   "execution_count": 3,
   "id": "1930e0d4-e1fb-4d3a-9ab2-d3ebf5c591d4",
   "metadata": {},
   "outputs": [
    {
     "data": {
      "text/plain": [
       "Index(['Id', 'Name', 'Authors', 'ISBN', 'Rating', 'PublishYear',\n",
       "       'PublishMonth', 'PublishDay', 'Publisher', 'RatingDist5', 'RatingDist4',\n",
       "       'RatingDist3', 'RatingDist2', 'RatingDist1', 'RatingDistTotal',\n",
       "       'CountsOfReview', 'Language', 'pagesNumber', 'Description',\n",
       "       'Count of text reviews'],\n",
       "      dtype='object')"
      ]
     },
     "execution_count": 3,
     "metadata": {},
     "output_type": "execute_result"
    }
   ],
   "source": [
    "# Check column names\n",
    "data.columns"
   ]
  },
  {
   "cell_type": "markdown",
   "id": "2f7d540e-b026-4b7d-88c3-65788a687966",
   "metadata": {},
   "source": [
    "---\n",
    "### Filter Columns"
   ]
  },
  {
   "cell_type": "code",
   "execution_count": 4,
   "id": "a4082c78-491e-45e0-8dd8-bf0d4b54b77e",
   "metadata": {},
   "outputs": [
    {
     "data": {
      "text/html": [
       "<div>\n",
       "<style scoped>\n",
       "    .dataframe tbody tr th:only-of-type {\n",
       "        vertical-align: middle;\n",
       "    }\n",
       "\n",
       "    .dataframe tbody tr th {\n",
       "        vertical-align: top;\n",
       "    }\n",
       "\n",
       "    .dataframe thead th {\n",
       "        text-align: right;\n",
       "    }\n",
       "</style>\n",
       "<table border=\"1\" class=\"dataframe\">\n",
       "  <thead>\n",
       "    <tr style=\"text-align: right;\">\n",
       "      <th></th>\n",
       "      <th>Id</th>\n",
       "      <th>Name</th>\n",
       "      <th>Authors</th>\n",
       "      <th>ISBN</th>\n",
       "      <th>Rating</th>\n",
       "      <th>PublishYear</th>\n",
       "      <th>Publisher</th>\n",
       "      <th>Language</th>\n",
       "      <th>Description</th>\n",
       "    </tr>\n",
       "  </thead>\n",
       "  <tbody>\n",
       "    <tr>\n",
       "      <th>0</th>\n",
       "      <td>1000000</td>\n",
       "      <td>Flight from Eden</td>\n",
       "      <td>Kathryn A. Graham</td>\n",
       "      <td>0595199402</td>\n",
       "      <td>4.00</td>\n",
       "      <td>2001</td>\n",
       "      <td>Writer's Showcase Press</td>\n",
       "      <td>NaN</td>\n",
       "      <td>What could a computer expert, a mercenary with...</td>\n",
       "    </tr>\n",
       "    <tr>\n",
       "      <th>1</th>\n",
       "      <td>1000001</td>\n",
       "      <td>Roommates Again</td>\n",
       "      <td>Kathryn O. Galbraith</td>\n",
       "      <td>0689505973</td>\n",
       "      <td>3.20</td>\n",
       "      <td>1994</td>\n",
       "      <td>Margaret K. McElderry Books</td>\n",
       "      <td>NaN</td>\n",
       "      <td>During their stay at Camp Sleep-Away, sisters ...</td>\n",
       "    </tr>\n",
       "    <tr>\n",
       "      <th>2</th>\n",
       "      <td>1000003</td>\n",
       "      <td>The King At The Door</td>\n",
       "      <td>Brock Cole</td>\n",
       "      <td>0374440417</td>\n",
       "      <td>3.95</td>\n",
       "      <td>1992</td>\n",
       "      <td>Farrar Straus Giroux</td>\n",
       "      <td>NaN</td>\n",
       "      <td>A poorly dressed old man appears at an inn and...</td>\n",
       "    </tr>\n",
       "    <tr>\n",
       "      <th>3</th>\n",
       "      <td>1000004</td>\n",
       "      <td>Giotto: The Scrovegni Chapel, Padua</td>\n",
       "      <td>Bruce Cole</td>\n",
       "      <td>080761310X</td>\n",
       "      <td>4.47</td>\n",
       "      <td>1993</td>\n",
       "      <td>George Braziller</td>\n",
       "      <td>NaN</td>\n",
       "      <td>This beautiful series lavishly illustrates the...</td>\n",
       "    </tr>\n",
       "    <tr>\n",
       "      <th>4</th>\n",
       "      <td>1000005</td>\n",
       "      <td>Larky Mavis</td>\n",
       "      <td>Brock Cole</td>\n",
       "      <td>0374343659</td>\n",
       "      <td>3.69</td>\n",
       "      <td>2001</td>\n",
       "      <td>Farrar, Straus and Giroux (BYR)</td>\n",
       "      <td>NaN</td>\n",
       "      <td>&lt;b&gt;Another orginal picture-book fairy tale&lt;/b&gt;...</td>\n",
       "    </tr>\n",
       "  </tbody>\n",
       "</table>\n",
       "</div>"
      ],
      "text/plain": [
       "        Id                                 Name               Authors  \\\n",
       "0  1000000                     Flight from Eden     Kathryn A. Graham   \n",
       "1  1000001                      Roommates Again  Kathryn O. Galbraith   \n",
       "2  1000003                 The King At The Door            Brock Cole   \n",
       "3  1000004  Giotto: The Scrovegni Chapel, Padua            Bruce Cole   \n",
       "4  1000005                          Larky Mavis            Brock Cole   \n",
       "\n",
       "         ISBN  Rating  PublishYear                        Publisher Language  \\\n",
       "0  0595199402    4.00         2001          Writer's Showcase Press      NaN   \n",
       "1  0689505973    3.20         1994      Margaret K. McElderry Books      NaN   \n",
       "2  0374440417    3.95         1992             Farrar Straus Giroux      NaN   \n",
       "3  080761310X    4.47         1993                 George Braziller      NaN   \n",
       "4  0374343659    3.69         2001  Farrar, Straus and Giroux (BYR)      NaN   \n",
       "\n",
       "                                         Description  \n",
       "0  What could a computer expert, a mercenary with...  \n",
       "1  During their stay at Camp Sleep-Away, sisters ...  \n",
       "2  A poorly dressed old man appears at an inn and...  \n",
       "3  This beautiful series lavishly illustrates the...  \n",
       "4  <b>Another orginal picture-book fairy tale</b>...  "
      ]
     },
     "execution_count": 4,
     "metadata": {},
     "output_type": "execute_result"
    }
   ],
   "source": [
    "# Only keep columns we need\n",
    "eda_data = data[['Id', 'Name', 'Authors', 'ISBN', 'Rating', 'PublishYear', 'Publisher', 'Language', 'Description']].copy()\n",
    "eda_data.head()     "
   ]
  },
  {
   "cell_type": "code",
   "execution_count": 5,
   "id": "b3df6561-e8b3-4f1c-9269-25c576aa55e9",
   "metadata": {},
   "outputs": [
    {
     "data": {
      "text/plain": [
       "(39705, 9)"
      ]
     },
     "execution_count": 5,
     "metadata": {},
     "output_type": "execute_result"
    }
   ],
   "source": [
    "# Find number of smaples and features\n",
    "eda_data.shape"
   ]
  },
  {
   "cell_type": "code",
   "execution_count": 6,
   "id": "f0112d32-4106-467a-be68-a7f28c697657",
   "metadata": {},
   "outputs": [
    {
     "name": "stdout",
     "output_type": "stream",
     "text": [
      "<class 'pandas.core.frame.DataFrame'>\n",
      "RangeIndex: 39705 entries, 0 to 39704\n",
      "Data columns (total 9 columns):\n",
      " #   Column       Non-Null Count  Dtype  \n",
      "---  ------       --------------  -----  \n",
      " 0   Id           39705 non-null  int64  \n",
      " 1   Name         39705 non-null  object \n",
      " 2   Authors      39705 non-null  object \n",
      " 3   ISBN         39577 non-null  object \n",
      " 4   Rating       39705 non-null  float64\n",
      " 5   PublishYear  39705 non-null  int64  \n",
      " 6   Publisher    39345 non-null  object \n",
      " 7   Language     7013 non-null   object \n",
      " 8   Description  34559 non-null  object \n",
      "dtypes: float64(1), int64(2), object(6)\n",
      "memory usage: 2.7+ MB\n"
     ]
    }
   ],
   "source": [
    "# Check data types of features\n",
    "eda_data.info()"
   ]
  },
  {
   "cell_type": "code",
   "execution_count": 7,
   "id": "1c1168f4-b13d-4beb-8690-fbb719a94d56",
   "metadata": {},
   "outputs": [
    {
     "data": {
      "text/html": [
       "<div>\n",
       "<style scoped>\n",
       "    .dataframe tbody tr th:only-of-type {\n",
       "        vertical-align: middle;\n",
       "    }\n",
       "\n",
       "    .dataframe tbody tr th {\n",
       "        vertical-align: top;\n",
       "    }\n",
       "\n",
       "    .dataframe thead th {\n",
       "        text-align: right;\n",
       "    }\n",
       "</style>\n",
       "<table border=\"1\" class=\"dataframe\">\n",
       "  <thead>\n",
       "    <tr style=\"text-align: right;\">\n",
       "      <th></th>\n",
       "      <th>Id</th>\n",
       "      <th>Rating</th>\n",
       "      <th>PublishYear</th>\n",
       "    </tr>\n",
       "  </thead>\n",
       "  <tbody>\n",
       "    <tr>\n",
       "      <th>count</th>\n",
       "      <td>3.970500e+04</td>\n",
       "      <td>39705.000000</td>\n",
       "      <td>39705.000000</td>\n",
       "    </tr>\n",
       "    <tr>\n",
       "      <th>mean</th>\n",
       "      <td>1.049590e+06</td>\n",
       "      <td>3.412516</td>\n",
       "      <td>1998.979751</td>\n",
       "    </tr>\n",
       "    <tr>\n",
       "      <th>std</th>\n",
       "      <td>2.871678e+04</td>\n",
       "      <td>1.302399</td>\n",
       "      <td>8.390990</td>\n",
       "    </tr>\n",
       "    <tr>\n",
       "      <th>min</th>\n",
       "      <td>1.000000e+06</td>\n",
       "      <td>0.000000</td>\n",
       "      <td>1898.000000</td>\n",
       "    </tr>\n",
       "    <tr>\n",
       "      <th>25%</th>\n",
       "      <td>1.025072e+06</td>\n",
       "      <td>3.400000</td>\n",
       "      <td>1996.000000</td>\n",
       "    </tr>\n",
       "    <tr>\n",
       "      <th>50%</th>\n",
       "      <td>1.049176e+06</td>\n",
       "      <td>3.820000</td>\n",
       "      <td>2001.000000</td>\n",
       "    </tr>\n",
       "    <tr>\n",
       "      <th>75%</th>\n",
       "      <td>1.074358e+06</td>\n",
       "      <td>4.080000</td>\n",
       "      <td>2005.000000</td>\n",
       "    </tr>\n",
       "    <tr>\n",
       "      <th>max</th>\n",
       "      <td>1.099996e+06</td>\n",
       "      <td>5.000000</td>\n",
       "      <td>2030.000000</td>\n",
       "    </tr>\n",
       "  </tbody>\n",
       "</table>\n",
       "</div>"
      ],
      "text/plain": [
       "                 Id        Rating   PublishYear\n",
       "count  3.970500e+04  39705.000000  39705.000000\n",
       "mean   1.049590e+06      3.412516   1998.979751\n",
       "std    2.871678e+04      1.302399      8.390990\n",
       "min    1.000000e+06      0.000000   1898.000000\n",
       "25%    1.025072e+06      3.400000   1996.000000\n",
       "50%    1.049176e+06      3.820000   2001.000000\n",
       "75%    1.074358e+06      4.080000   2005.000000\n",
       "max    1.099996e+06      5.000000   2030.000000"
      ]
     },
     "execution_count": 7,
     "metadata": {},
     "output_type": "execute_result"
    }
   ],
   "source": [
    "# Quantiles Summary\n",
    "eda_data.describe()"
   ]
  },
  {
   "cell_type": "markdown",
   "id": "f7113473-1016-46ea-9c6e-a60362e67174",
   "metadata": {},
   "source": [
    "---\n",
    "---\n",
    "# Data Cleaning\n",
    "### Find missing values and replace with appropriate substitution."
   ]
  },
  {
   "cell_type": "code",
   "execution_count": 8,
   "id": "3b46b34b-434e-43f6-a5f2-cd776eb2b62b",
   "metadata": {
    "tags": []
   },
   "outputs": [
    {
     "data": {
      "text/plain": [
       "Id                 0\n",
       "Name               0\n",
       "Authors            0\n",
       "ISBN             128\n",
       "Rating             0\n",
       "PublishYear        0\n",
       "Publisher        360\n",
       "Language       32692\n",
       "Description     5146\n",
       "dtype: int64"
      ]
     },
     "execution_count": 8,
     "metadata": {},
     "output_type": "execute_result"
    }
   ],
   "source": [
    "# Find number of NaN in each column\n",
    "eda_data.isna().sum()"
   ]
  },
  {
   "cell_type": "code",
   "execution_count": 9,
   "id": "ac1c79ff-f758-4311-8bc4-09d751408007",
   "metadata": {},
   "outputs": [
    {
     "data": {
      "text/plain": [
       "array([nan, 'eng', 'fre', 'en-US', 'en-GB', 'spa', 'ger', 'ita', 'jpn',\n",
       "       'en-CA', 'nl', 'lat', 'cat', 'cze', 'grc', 'por', 'per', 'rus',\n",
       "       'mul', 'swe', 'ind', 'rum', 'raj', 'ang', 'afr', 'eus', 'zho',\n",
       "       'ypk', 'gle', 'frm', 'tur'], dtype=object)"
      ]
     },
     "execution_count": 9,
     "metadata": {},
     "output_type": "execute_result"
    }
   ],
   "source": [
    "eda_data.Language.unique()"
   ]
  },
  {
   "cell_type": "markdown",
   "id": "62e3eb2a-a11e-40e2-9610-46ad1af3f40d",
   "metadata": {},
   "source": [
    "---\n",
    "### Replace missing publisher info with unknown"
   ]
  },
  {
   "cell_type": "code",
   "execution_count": 10,
   "id": "7fe4045a-58ab-4da3-87bf-980f354627f0",
   "metadata": {},
   "outputs": [],
   "source": [
    "eda_data[[\"Publisher\"]] = eda_data[[\"Publisher\"]].fillna(\"unknown\")"
   ]
  },
  {
   "cell_type": "code",
   "execution_count": 11,
   "id": "5ddb3d8c-c562-4257-92db-1a91f4da19d2",
   "metadata": {},
   "outputs": [
    {
     "data": {
      "text/plain": [
       "Id                 0\n",
       "Name               0\n",
       "Authors            0\n",
       "ISBN             128\n",
       "Rating             0\n",
       "PublishYear        0\n",
       "Publisher          0\n",
       "Language       32692\n",
       "Description     5146\n",
       "dtype: int64"
      ]
     },
     "execution_count": 11,
     "metadata": {},
     "output_type": "execute_result"
    }
   ],
   "source": [
    "eda_data.isna().sum()"
   ]
  },
  {
   "cell_type": "markdown",
   "id": "cf510140-8314-45e8-bc29-e4edc5c3fd09",
   "metadata": {},
   "source": [
    "---\n",
    "### Remove rows with missing description"
   ]
  },
  {
   "cell_type": "code",
   "execution_count": 12,
   "id": "c10b9447-4e0c-4816-8fca-ba6b0682b981",
   "metadata": {},
   "outputs": [],
   "source": [
    "# Remove rows having atleast ine NaN in any feature\n",
    "# eda_data.dropna(axis=0, how=\"any\", inplace=True)\n",
    "eda_data.dropna(subset=[\"Description\"], inplace=True)"
   ]
  },
  {
   "cell_type": "markdown",
   "id": "4b630693-e975-4fc7-8da1-5b9dfb7c561d",
   "metadata": {},
   "source": [
    "---\n",
    "### Remove URLs from the description"
   ]
  },
  {
   "cell_type": "code",
   "execution_count": 13,
   "id": "5316dbac-86e6-427b-b4c6-b997136d5f22",
   "metadata": {},
   "outputs": [
    {
     "data": {
      "text/plain": [
       "['<i>Alternate Cover Edition can be found <a href=\"https://www.goodreads.com/book/show/38559855\" rel=\"nofollow\">here</a></i><br /><br />Das Böse hält keinen Winterschlaf.<br />Kathy Reichs auch nicht.<br /><br /><br />Was könnte frostiger sein als ein kanadischer Dezembersturm? Tempe Brennan, forensische Anthropologin in Montreal, wird an einem tristen Montagmorgen zu einem Fundort gerufen, der ihr das Blut in den Adern gefrieren lässt. Verscharrt in einem Kellergewölbe liegen die Leichen dreier junger Frauen. Nicht eine Gewebefaser, kein Fetzen Kleidung geben Aufschluss darüber, wann und warum diese Mädchen sterben mussten. Nur dank akribischer Ermittlungen und weiblicher Intuition kommt Tempe dem Mörder auf die Spur. Doch sie muss auf alles gefasst sein, denn ihr Gegner ist an Kaltblütigkeit nicht zu übertreffen …<br /><br /><br />Tempe Brennans siebter Fall.<br /><br /><br /><br /><br />']"
      ]
     },
     "execution_count": 13,
     "metadata": {},
     "output_type": "execute_result"
    }
   ],
   "source": [
    "list(eda_data.Description[eda_data.Id == 1099555]) #Description with url and html tag"
   ]
  },
  {
   "cell_type": "code",
   "execution_count": 14,
   "id": "0a29577b-c26c-4b60-bef3-e234a4ef0442",
   "metadata": {},
   "outputs": [],
   "source": [
    "import re\n",
    "url_pattern = re.compile(r'https?://\\S+|www\\.\\S+')\n",
    "def remove_url(text):   \n",
    "    return re.sub(url_pattern, r'', text)\n",
    "\n",
    "eda_data.Description = eda_data.Description.apply(remove_url)"
   ]
  },
  {
   "cell_type": "markdown",
   "id": "5eb371f7-e631-41c1-864f-8a85468b36c5",
   "metadata": {},
   "source": [
    "---\n",
    "### Remove html tags from the description."
   ]
  },
  {
   "cell_type": "code",
   "execution_count": 15,
   "id": "52e4d56a-80ae-4fb9-a408-a205f0e36214",
   "metadata": {},
   "outputs": [],
   "source": [
    "html_pattern = re.compile('<[^>]*>')\n",
    "def clean_html_tags(text):\n",
    "    return re.sub(html_pattern, r'', text)\n",
    "\n",
    "eda_data.Description = eda_data.Description.apply(clean_html_tags)"
   ]
  },
  {
   "cell_type": "code",
   "execution_count": 16,
   "id": "8798e01c-b9f1-4f09-ad10-5ecab62d870d",
   "metadata": {},
   "outputs": [
    {
     "data": {
      "text/plain": [
       "['Alternate Cover Edition can be found hereDas Böse hält keinen Winterschlaf.Kathy Reichs auch nicht.Was könnte frostiger sein als ein kanadischer Dezembersturm? Tempe Brennan, forensische Anthropologin in Montreal, wird an einem tristen Montagmorgen zu einem Fundort gerufen, der ihr das Blut in den Adern gefrieren lässt. Verscharrt in einem Kellergewölbe liegen die Leichen dreier junger Frauen. Nicht eine Gewebefaser, kein Fetzen Kleidung geben Aufschluss darüber, wann und warum diese Mädchen sterben mussten. Nur dank akribischer Ermittlungen und weiblicher Intuition kommt Tempe dem Mörder auf die Spur. Doch sie muss auf alles gefasst sein, denn ihr Gegner ist an Kaltblütigkeit nicht zu übertreffen …Tempe Brennans siebter Fall.']"
      ]
     },
     "execution_count": 16,
     "metadata": {},
     "output_type": "execute_result"
    }
   ],
   "source": [
    "list(eda_data.Description[eda_data.Id == 1099555])"
   ]
  },
  {
   "cell_type": "markdown",
   "id": "2edc87db-75ab-4018-9392-4a394088e0ee",
   "metadata": {},
   "source": [
    "---\n",
    "### Find book descriptions with very short length and remove them."
   ]
  },
  {
   "cell_type": "code",
   "execution_count": 17,
   "id": "6457f0fb-3a1d-48c8-9b0d-d25b5a94056d",
   "metadata": {},
   "outputs": [
    {
     "data": {
      "text/html": [
       "<div>\n",
       "<style scoped>\n",
       "    .dataframe tbody tr th:only-of-type {\n",
       "        vertical-align: middle;\n",
       "    }\n",
       "\n",
       "    .dataframe tbody tr th {\n",
       "        vertical-align: top;\n",
       "    }\n",
       "\n",
       "    .dataframe thead th {\n",
       "        text-align: right;\n",
       "    }\n",
       "</style>\n",
       "<table border=\"1\" class=\"dataframe\">\n",
       "  <thead>\n",
       "    <tr style=\"text-align: right;\">\n",
       "      <th></th>\n",
       "      <th>Id</th>\n",
       "      <th>Name</th>\n",
       "      <th>Description</th>\n",
       "      <th>length</th>\n",
       "    </tr>\n",
       "  </thead>\n",
       "  <tbody>\n",
       "    <tr>\n",
       "      <th>2327</th>\n",
       "      <td>1005785</td>\n",
       "      <td>Tag-along Tails: Ring Tailed Lemur</td>\n",
       "      <td></td>\n",
       "      <td>0</td>\n",
       "    </tr>\n",
       "    <tr>\n",
       "      <th>30582</th>\n",
       "      <td>1076433</td>\n",
       "      <td>Buddhism</td>\n",
       "      <td></td>\n",
       "      <td>0</td>\n",
       "    </tr>\n",
       "    <tr>\n",
       "      <th>636</th>\n",
       "      <td>1001461</td>\n",
       "      <td>Barbarism</td>\n",
       "      <td>Poetry</td>\n",
       "      <td>1</td>\n",
       "    </tr>\n",
       "    <tr>\n",
       "      <th>36831</th>\n",
       "      <td>1092143</td>\n",
       "      <td>Nighthawk F-117 Stealth Fighter</td>\n",
       "      <td>New</td>\n",
       "      <td>1</td>\n",
       "    </tr>\n",
       "    <tr>\n",
       "      <th>31889</th>\n",
       "      <td>1079751</td>\n",
       "      <td>Mahmoud Ahmadinejad: President of Iran</td>\n",
       "      <td>##############################################...</td>\n",
       "      <td>1</td>\n",
       "    </tr>\n",
       "    <tr>\n",
       "      <th>28972</th>\n",
       "      <td>1072319</td>\n",
       "      <td>The Milk Group</td>\n",
       "      <td>none</td>\n",
       "      <td>1</td>\n",
       "    </tr>\n",
       "    <tr>\n",
       "      <th>28889</th>\n",
       "      <td>1072133</td>\n",
       "      <td>Frequently Asked Questions about Being Gifted</td>\n",
       "      <td>##############################################...</td>\n",
       "      <td>1</td>\n",
       "    </tr>\n",
       "    <tr>\n",
       "      <th>28887</th>\n",
       "      <td>1072128</td>\n",
       "      <td>Frequently Asked Questions about Stuttering</td>\n",
       "      <td>##############################################...</td>\n",
       "      <td>1</td>\n",
       "    </tr>\n",
       "    <tr>\n",
       "      <th>27518</th>\n",
       "      <td>1068566</td>\n",
       "      <td>Even More True Stories: An Intermediate Reader</td>\n",
       "      <td>textformat=02&amp;gt;</td>\n",
       "      <td>1</td>\n",
       "    </tr>\n",
       "    <tr>\n",
       "      <th>27371</th>\n",
       "      <td>1068180</td>\n",
       "      <td>The Visual Guide to College Composition</td>\n",
       "      <td>textformat=02&amp;gt;</td>\n",
       "      <td>1</td>\n",
       "    </tr>\n",
       "  </tbody>\n",
       "</table>\n",
       "</div>"
      ],
      "text/plain": [
       "            Id                                            Name  \\\n",
       "2327   1005785              Tag-along Tails: Ring Tailed Lemur   \n",
       "30582  1076433                                        Buddhism   \n",
       "636    1001461                                       Barbarism   \n",
       "36831  1092143                 Nighthawk F-117 Stealth Fighter   \n",
       "31889  1079751          Mahmoud Ahmadinejad: President of Iran   \n",
       "28972  1072319                                  The Milk Group   \n",
       "28889  1072133   Frequently Asked Questions about Being Gifted   \n",
       "28887  1072128     Frequently Asked Questions about Stuttering   \n",
       "27518  1068566  Even More True Stories: An Intermediate Reader   \n",
       "27371  1068180         The Visual Guide to College Composition   \n",
       "\n",
       "                                             Description  length  \n",
       "2327                                                           0  \n",
       "30582                                                          0  \n",
       "636                                               Poetry       1  \n",
       "36831                                                New       1  \n",
       "31889  ##############################################...       1  \n",
       "28972                                               none       1  \n",
       "28889  ##############################################...       1  \n",
       "28887  ##############################################...       1  \n",
       "27518                                  textformat=02&gt;       1  \n",
       "27371                                  textformat=02&gt;       1  "
      ]
     },
     "execution_count": 17,
     "metadata": {},
     "output_type": "execute_result"
    }
   ],
   "source": [
    "eda_data[\"length\"] = [len(d.split()) for d in eda_data['Description'].tolist()]\n",
    "eda_data[eda_data.length.isin(range(0,4))][[\"Id\", \"Name\", \"Description\", \"length\"]]\\\n",
    ".sort_values(by=[\"length\"], ascending=True).head(10)"
   ]
  },
  {
   "cell_type": "markdown",
   "id": "bfa718e3-33b2-402c-8c7b-d700cfe69539",
   "metadata": {},
   "source": [
    "- As we have removed tags we see empty strings in the description, lets first convert them to NaN and then remove them"
   ]
  },
  {
   "cell_type": "code",
   "execution_count": 18,
   "id": "b82ff485-8046-4c59-ab9d-324df020158e",
   "metadata": {},
   "outputs": [
    {
     "data": {
      "text/html": [
       "<div>\n",
       "<style scoped>\n",
       "    .dataframe tbody tr th:only-of-type {\n",
       "        vertical-align: middle;\n",
       "    }\n",
       "\n",
       "    .dataframe tbody tr th {\n",
       "        vertical-align: top;\n",
       "    }\n",
       "\n",
       "    .dataframe thead th {\n",
       "        text-align: right;\n",
       "    }\n",
       "</style>\n",
       "<table border=\"1\" class=\"dataframe\">\n",
       "  <thead>\n",
       "    <tr style=\"text-align: right;\">\n",
       "      <th></th>\n",
       "      <th>Id</th>\n",
       "      <th>Name</th>\n",
       "      <th>Description</th>\n",
       "      <th>length</th>\n",
       "    </tr>\n",
       "  </thead>\n",
       "  <tbody>\n",
       "    <tr>\n",
       "      <th>2327</th>\n",
       "      <td>1005785</td>\n",
       "      <td>Tag-along Tails: Ring Tailed Lemur</td>\n",
       "      <td>NaN</td>\n",
       "      <td>0</td>\n",
       "    </tr>\n",
       "    <tr>\n",
       "      <th>30582</th>\n",
       "      <td>1076433</td>\n",
       "      <td>Buddhism</td>\n",
       "      <td>NaN</td>\n",
       "      <td>0</td>\n",
       "    </tr>\n",
       "    <tr>\n",
       "      <th>636</th>\n",
       "      <td>1001461</td>\n",
       "      <td>Barbarism</td>\n",
       "      <td>Poetry</td>\n",
       "      <td>1</td>\n",
       "    </tr>\n",
       "    <tr>\n",
       "      <th>36831</th>\n",
       "      <td>1092143</td>\n",
       "      <td>Nighthawk F-117 Stealth Fighter</td>\n",
       "      <td>New</td>\n",
       "      <td>1</td>\n",
       "    </tr>\n",
       "    <tr>\n",
       "      <th>31889</th>\n",
       "      <td>1079751</td>\n",
       "      <td>Mahmoud Ahmadinejad: President of Iran</td>\n",
       "      <td>##############################################...</td>\n",
       "      <td>1</td>\n",
       "    </tr>\n",
       "  </tbody>\n",
       "</table>\n",
       "</div>"
      ],
      "text/plain": [
       "            Id                                    Name  \\\n",
       "2327   1005785      Tag-along Tails: Ring Tailed Lemur   \n",
       "30582  1076433                                Buddhism   \n",
       "636    1001461                               Barbarism   \n",
       "36831  1092143         Nighthawk F-117 Stealth Fighter   \n",
       "31889  1079751  Mahmoud Ahmadinejad: President of Iran   \n",
       "\n",
       "                                             Description  length  \n",
       "2327                                                 NaN       0  \n",
       "30582                                                NaN       0  \n",
       "636                                               Poetry       1  \n",
       "36831                                                New       1  \n",
       "31889  ##############################################...       1  "
      ]
     },
     "execution_count": 18,
     "metadata": {},
     "output_type": "execute_result"
    }
   ],
   "source": [
    "# Replace empty strings of description with NaN\n",
    "eda_data.Description = eda_data.Description.replace(r'^\\s*$', np.nan, regex=True)\n",
    "\n",
    "eda_data[eda_data.length.isin(range(0,4))][[\"Id\", \"Name\", \"Description\", \"length\"]]\\\n",
    ".sort_values(by=[\"length\"], ascending=True).head()"
   ]
  },
  {
   "cell_type": "code",
   "execution_count": 19,
   "id": "8d075575-4e2a-458c-970e-48694e542722",
   "metadata": {},
   "outputs": [
    {
     "data": {
      "text/html": [
       "<div>\n",
       "<style scoped>\n",
       "    .dataframe tbody tr th:only-of-type {\n",
       "        vertical-align: middle;\n",
       "    }\n",
       "\n",
       "    .dataframe tbody tr th {\n",
       "        vertical-align: top;\n",
       "    }\n",
       "\n",
       "    .dataframe thead th {\n",
       "        text-align: right;\n",
       "    }\n",
       "</style>\n",
       "<table border=\"1\" class=\"dataframe\">\n",
       "  <thead>\n",
       "    <tr style=\"text-align: right;\">\n",
       "      <th></th>\n",
       "      <th>Id</th>\n",
       "      <th>Name</th>\n",
       "      <th>Description</th>\n",
       "      <th>length</th>\n",
       "    </tr>\n",
       "  </thead>\n",
       "  <tbody>\n",
       "    <tr>\n",
       "      <th>636</th>\n",
       "      <td>1001461</td>\n",
       "      <td>Barbarism</td>\n",
       "      <td>Poetry</td>\n",
       "      <td>1</td>\n",
       "    </tr>\n",
       "    <tr>\n",
       "      <th>36831</th>\n",
       "      <td>1092143</td>\n",
       "      <td>Nighthawk F-117 Stealth Fighter</td>\n",
       "      <td>New</td>\n",
       "      <td>1</td>\n",
       "    </tr>\n",
       "    <tr>\n",
       "      <th>31889</th>\n",
       "      <td>1079751</td>\n",
       "      <td>Mahmoud Ahmadinejad: President of Iran</td>\n",
       "      <td>##############################################...</td>\n",
       "      <td>1</td>\n",
       "    </tr>\n",
       "    <tr>\n",
       "      <th>28972</th>\n",
       "      <td>1072319</td>\n",
       "      <td>The Milk Group</td>\n",
       "      <td>none</td>\n",
       "      <td>1</td>\n",
       "    </tr>\n",
       "    <tr>\n",
       "      <th>28889</th>\n",
       "      <td>1072133</td>\n",
       "      <td>Frequently Asked Questions about Being Gifted</td>\n",
       "      <td>##############################################...</td>\n",
       "      <td>1</td>\n",
       "    </tr>\n",
       "  </tbody>\n",
       "</table>\n",
       "</div>"
      ],
      "text/plain": [
       "            Id                                           Name  \\\n",
       "636    1001461                                      Barbarism   \n",
       "36831  1092143                Nighthawk F-117 Stealth Fighter   \n",
       "31889  1079751         Mahmoud Ahmadinejad: President of Iran   \n",
       "28972  1072319                                 The Milk Group   \n",
       "28889  1072133  Frequently Asked Questions about Being Gifted   \n",
       "\n",
       "                                             Description  length  \n",
       "636                                               Poetry       1  \n",
       "36831                                                New       1  \n",
       "31889  ##############################################...       1  \n",
       "28972                                               none       1  \n",
       "28889  ##############################################...       1  "
      ]
     },
     "execution_count": 19,
     "metadata": {},
     "output_type": "execute_result"
    }
   ],
   "source": [
    "eda_data.dropna(subset=[\"Description\"], inplace=True)\n",
    "\n",
    "eda_data[eda_data.length.isin(range(0,4))][[\"Id\", \"Name\", \"Description\", \"length\"]]\\\n",
    ".sort_values(by=[\"length\"], ascending=True).head()"
   ]
  },
  {
   "cell_type": "code",
   "execution_count": 20,
   "id": "8227021d-97cf-4020-b0cc-39cf48992135",
   "metadata": {},
   "outputs": [
    {
     "name": "stdout",
     "output_type": "stream",
     "text": [
      "{'vol. 1of 2', '-- Yasuhiro Nakasone', 'Level A', 'Haynes.', '中古品につき多少のキズ・汚れ・日焼け等はありますが、状態は良好です。', 'Book by', 'Poetry', 'Edition bilingue.', 'Erlogen von Loriot.', 'Noel Polk, editor', 'Re-creation of Landscape', 'Publishers Weekly', '《文化、權力與國家:1900—1942年的華北農村》是美國學者杜贊奇的名著。杜贊奇（Prasenjit Duara），早年就學於印度，後赴美國求學，師從著名漢學大師孔飛力，現任美國芝加哥大學歷史學系及東亞語言文明系教授。其著作除本書外，還有廣為學界選舉的《從民族國家拯救歷史》。此兩書使杜贊奇成為名聞國際的漢學家。本書是以鄉村的文化網絡為基本結構並考察其功能力，作者主要利用日本南滿鐵道株式會社調查部編撰的《中國慣行調查報告》、南開大學經濟研究所在20世紀二三十年代所做的社會調查材料，以及中外學者已有的研究成果，通過細致的個案研究，向我們展示了1900—1942年間華北農村社會的政治經濟文化的一般狀況。作者力圖打通歷史學與社會學的間隔，提出了「國家政權建設」和「權力的文化網絡」兩個中心概念。作者認為，「國家政權建設」是一種全球性現象，作為一個概念，同更古老的「資本主義」等概念一樣，具有深遠的分析性含義。「權力的文化網絡」概念則吸收了西方學術界有關文化研究的成果，反對一些現代化論者用單一社會體系或一套所謂的「中國價值觀」去理解中國的觀點，同時也反對認為價值觀點交互感應的功能主義論者的學說。最重要的一點是，作者在書中貫穿了這樣一種方法:在考慮話語—主體—制度這三者對歷史的建構時，應加入許多外來事物和偶然因素，因為參與主體和主體性構成的不僅有話語，還有外來事物；而由主體構建的制度，還應包括制度本身的邏輯性和偶然性。本書曾先後榮獲1989年度的美國歷史學會費正清獎以及1900年度的亞洲研究學會列文森獎。', 'undefined', 'One WomanOs Charlottetown', 'none', 'English and Italian', 'New', 'Bild Wissensbibliothek', '《洗澡》不是由一个主角贯连全部的小说，而是借一个政治运动作背景，写那个时期形形色色的知识分子。所以是个横断面；既没有史诗性的结构，也没有主角。本书第一部写新中国不拘一格收罗的人才，人物一一出场。第二部写这些人确实需要“洗澡”。第三部写运动中这群人各自不同的表现。“洗澡”没有得到预期的效果，原因是谁都没有自觉自愿。假如说，人是有灵性、有良知的动物，那么，人生一世，无非是认识自己，洗炼自己，自觉自愿地改造自己，除非甘心与禽兽无异。但是这又谈何容易呢？这部小说里，只有一两人自觉自愿地试图超拔自己。读者出于喜爱，往往把他们看作主角。', 'Abridged', '1-59397-748-4', 'Collects Daredevil #1-25', 'Drama.', '本集共收《在私塾》、《往事》、《常德的船》、《凤凰》等10篇散文。', 'print on demand', '.', '=The Understanding', 'Achtzehn beispielhafte Bildergeschichten.', 'Grades 6-12.', 'ANTHOLOGY', 'Revised and updated', '###############################################################################################################################################################################################################################################################', 'Twenty-two traditional rhymes.', 'Ranma ½, #7.', 'textformat=02&gt;'}\n"
     ]
    }
   ],
   "source": [
    "print(set(eda_data.Description[eda_data.length.isin(range(0,4))]))"
   ]
  },
  {
   "cell_type": "code",
   "execution_count": 21,
   "id": "bd412510-10ca-4a4f-bc25-869fac070bf8",
   "metadata": {},
   "outputs": [
    {
     "name": "stdout",
     "output_type": "stream",
     "text": [
      "0\n"
     ]
    }
   ],
   "source": [
    "# Drop records with very short description\n",
    "eda_data.drop(eda_data.index[eda_data.length.isin(range(0,4))], inplace = True)\n",
    "print(eda_data[eda_data.length.isin(range(0,4))].shape[0])\n",
    "del eda_data[\"length\"]"
   ]
  },
  {
   "cell_type": "markdown",
   "id": "25228e87-2b54-4f3b-ad63-a5baadfb11c5",
   "metadata": {},
   "source": [
    "---\n",
    "### Find if there is duplication of rows/features"
   ]
  },
  {
   "cell_type": "code",
   "execution_count": 22,
   "id": "af36a971-7b0d-40ac-9aff-8f9a2eac7775",
   "metadata": {
    "tags": []
   },
   "outputs": [
    {
     "data": {
      "text/plain": [
       "0"
      ]
     },
     "execution_count": 22,
     "metadata": {},
     "output_type": "execute_result"
    }
   ],
   "source": [
    "# Find number of duplicated rows\n",
    "eda_data[eda_data.duplicated()==True].shape[0]"
   ]
  },
  {
   "cell_type": "code",
   "execution_count": 23,
   "id": "6641dcf3-5725-49b3-a52f-ad72e0e0cd6d",
   "metadata": {},
   "outputs": [
    {
     "data": {
      "text/plain": [
       "Id             34516\n",
       "Name           34516\n",
       "Authors        25190\n",
       "ISBN           34429\n",
       "Rating           263\n",
       "PublishYear       91\n",
       "Publisher       6095\n",
       "Language          28\n",
       "Description    34087\n",
       "dtype: int64"
      ]
     },
     "execution_count": 23,
     "metadata": {},
     "output_type": "execute_result"
    }
   ],
   "source": [
    "# Find number of unique values of each feature\n",
    "eda_data.nunique()"
   ]
  },
  {
   "cell_type": "markdown",
   "id": "ea748df8-0a2e-4809-b0ca-42bf84ab5888",
   "metadata": {},
   "source": [
    "- We see that some descriptions are repaeted this possibly could be due to different versions of the same book. "
   ]
  },
  {
   "cell_type": "code",
   "execution_count": 24,
   "id": "3bc691a4-9eaa-4a0d-a08b-1489271239fa",
   "metadata": {},
   "outputs": [
    {
     "data": {
      "text/html": [
       "<div>\n",
       "<style scoped>\n",
       "    .dataframe tbody tr th:only-of-type {\n",
       "        vertical-align: middle;\n",
       "    }\n",
       "\n",
       "    .dataframe tbody tr th {\n",
       "        vertical-align: top;\n",
       "    }\n",
       "\n",
       "    .dataframe thead th {\n",
       "        text-align: right;\n",
       "    }\n",
       "</style>\n",
       "<table border=\"1\" class=\"dataframe\">\n",
       "  <thead>\n",
       "    <tr style=\"text-align: right;\">\n",
       "      <th></th>\n",
       "      <th>Id</th>\n",
       "      <th>Name</th>\n",
       "      <th>ISBN</th>\n",
       "      <th>Language</th>\n",
       "      <th>Description</th>\n",
       "    </tr>\n",
       "  </thead>\n",
       "  <tbody>\n",
       "    <tr>\n",
       "      <th>78</th>\n",
       "      <td>1000165</td>\n",
       "      <td>Strange Empire</td>\n",
       "      <td>0873512987</td>\n",
       "      <td>NaN</td>\n",
       "      <td>With passion and verve, Joseph Kinsey Howard, ...</td>\n",
       "    </tr>\n",
       "    <tr>\n",
       "      <th>79</th>\n",
       "      <td>1000166</td>\n",
       "      <td>Strange Empire: Louis Riel and the M?tis People</td>\n",
       "      <td>0888620594</td>\n",
       "      <td>eng</td>\n",
       "      <td>With passion and verve, Joseph Kinsey Howard, ...</td>\n",
       "    </tr>\n",
       "    <tr>\n",
       "      <th>89</th>\n",
       "      <td>1000185</td>\n",
       "      <td>Lighthouse at the End of the World: The First ...</td>\n",
       "      <td>0803246765</td>\n",
       "      <td>NaN</td>\n",
       "      <td>At the extreme tip of South America, Staten Is...</td>\n",
       "    </tr>\n",
       "    <tr>\n",
       "      <th>90</th>\n",
       "      <td>1000188</td>\n",
       "      <td>Lighthouse at the End of the World</td>\n",
       "      <td>0803260075</td>\n",
       "      <td>eng</td>\n",
       "      <td>At the extreme tip of South America, Staten Is...</td>\n",
       "    </tr>\n",
       "    <tr>\n",
       "      <th>162</th>\n",
       "      <td>1000353</td>\n",
       "      <td>The Moravian Springplace Mission to the Cherok...</td>\n",
       "      <td>0803232667</td>\n",
       "      <td>NaN</td>\n",
       "      <td>In 1801 the Moravians, a Pietist German-speaki...</td>\n",
       "    </tr>\n",
       "    <tr>\n",
       "      <th>...</th>\n",
       "      <td>...</td>\n",
       "      <td>...</td>\n",
       "      <td>...</td>\n",
       "      <td>...</td>\n",
       "      <td>...</td>\n",
       "    </tr>\n",
       "    <tr>\n",
       "      <th>39525</th>\n",
       "      <td>1099485</td>\n",
       "      <td>Communication and Citizenship: Journalism and ...</td>\n",
       "      <td>0415100674</td>\n",
       "      <td>NaN</td>\n",
       "      <td>First published in 1993. Routledge is an impri...</td>\n",
       "    </tr>\n",
       "    <tr>\n",
       "      <th>39540</th>\n",
       "      <td>1099555</td>\n",
       "      <td>Monday Mourning</td>\n",
       "      <td>0743233476</td>\n",
       "      <td>eng</td>\n",
       "      <td>Alternate Cover Edition can be found hereDas B...</td>\n",
       "    </tr>\n",
       "    <tr>\n",
       "      <th>39542</th>\n",
       "      <td>1099557</td>\n",
       "      <td>Meurtres à La Carte</td>\n",
       "      <td>222110062X</td>\n",
       "      <td>NaN</td>\n",
       "      <td>Alternate Cover Edition can be found hereDas B...</td>\n",
       "    </tr>\n",
       "    <tr>\n",
       "      <th>39550</th>\n",
       "      <td>1099575</td>\n",
       "      <td>Mopsa The Fairy</td>\n",
       "      <td>1430441771</td>\n",
       "      <td>NaN</td>\n",
       "      <td>This scarce antiquarian book is a facsimile re...</td>\n",
       "    </tr>\n",
       "    <tr>\n",
       "      <th>39663</th>\n",
       "      <td>1099858</td>\n",
       "      <td>Socrates-Arg Philosophers</td>\n",
       "      <td>0415203546</td>\n",
       "      <td>NaN</td>\n",
       "      <td>First Published in 1999. Routledge is an impri...</td>\n",
       "    </tr>\n",
       "  </tbody>\n",
       "</table>\n",
       "<p>724 rows × 5 columns</p>\n",
       "</div>"
      ],
      "text/plain": [
       "            Id                                               Name        ISBN  \\\n",
       "78     1000165                                     Strange Empire  0873512987   \n",
       "79     1000166    Strange Empire: Louis Riel and the M?tis People  0888620594   \n",
       "89     1000185  Lighthouse at the End of the World: The First ...  0803246765   \n",
       "90     1000188                 Lighthouse at the End of the World  0803260075   \n",
       "162    1000353  The Moravian Springplace Mission to the Cherok...  0803232667   \n",
       "...        ...                                                ...         ...   \n",
       "39525  1099485  Communication and Citizenship: Journalism and ...  0415100674   \n",
       "39540  1099555                                    Monday Mourning  0743233476   \n",
       "39542  1099557                                Meurtres à La Carte  222110062X   \n",
       "39550  1099575                                    Mopsa The Fairy  1430441771   \n",
       "39663  1099858                          Socrates-Arg Philosophers  0415203546   \n",
       "\n",
       "      Language                                        Description  \n",
       "78         NaN  With passion and verve, Joseph Kinsey Howard, ...  \n",
       "79         eng  With passion and verve, Joseph Kinsey Howard, ...  \n",
       "89         NaN  At the extreme tip of South America, Staten Is...  \n",
       "90         eng  At the extreme tip of South America, Staten Is...  \n",
       "162        NaN  In 1801 the Moravians, a Pietist German-speaki...  \n",
       "...        ...                                                ...  \n",
       "39525      NaN  First published in 1993. Routledge is an impri...  \n",
       "39540      eng  Alternate Cover Edition can be found hereDas B...  \n",
       "39542      NaN  Alternate Cover Edition can be found hereDas B...  \n",
       "39550      NaN  This scarce antiquarian book is a facsimile re...  \n",
       "39663      NaN  First Published in 1999. Routledge is an impri...  \n",
       "\n",
       "[724 rows x 5 columns]"
      ]
     },
     "execution_count": 24,
     "metadata": {},
     "output_type": "execute_result"
    }
   ],
   "source": [
    "eda_data[eda_data.duplicated(subset=\"Description\", keep=False)][[\"Id\",\"Name\", \"ISBN\", \"Language\", \"Description\"]].copy()"
   ]
  },
  {
   "cell_type": "markdown",
   "id": "93ab93e3-e373-4049-b6a7-4b20b87cc339",
   "metadata": {
    "tags": []
   },
   "source": [
    "- We see that same books have different ISBN becuase an ISBN is assigned to each separate edition and variation of a publication. For example, an e-book, a paperback and a hardcover edition of the same book will each have a different ISBN (except reprintings).\n",
    "\n",
    "---\n",
    "### Drop variants of the books\n",
    "- Only keep variants where language is not null, if language is missing for all the variants then keep the first occurrence and delete rest."
   ]
  },
  {
   "cell_type": "code",
   "execution_count": 25,
   "id": "dc7672c9-7fed-4c50-bd2f-58b93a90b505",
   "metadata": {},
   "outputs": [],
   "source": [
    "eda_data = eda_data.sort_values(by=\"Language\", na_position='last').drop_duplicates(subset=['Description'], keep='first');"
   ]
  },
  {
   "cell_type": "code",
   "execution_count": 26,
   "id": "2faf375e-8317-4713-b4b0-25ac93225cf8",
   "metadata": {},
   "outputs": [
    {
     "data": {
      "text/plain": [
       "Id                 0\n",
       "Name               0\n",
       "Authors            0\n",
       "ISBN              84\n",
       "Rating             0\n",
       "PublishYear        0\n",
       "Publisher          0\n",
       "Language       27794\n",
       "Description        0\n",
       "dtype: int64"
      ]
     },
     "execution_count": 26,
     "metadata": {},
     "output_type": "execute_result"
    }
   ],
   "source": [
    "eda_data.isna().sum()"
   ]
  },
  {
   "cell_type": "markdown",
   "id": "ed1a25be-bad8-4ef5-a7e4-4d73d98e2d4e",
   "metadata": {
    "tags": []
   },
   "source": [
    "---\n",
    "### Extract book series information from the name of the book\n",
    "- Remove irrelevant info from the name of the book to improve efficiency of the tokenization.\n",
    "- Book names with hashtag represent edition of the book in a series"
   ]
  },
  {
   "cell_type": "code",
   "execution_count": 65,
   "id": "f625d354-6b93-400f-acf8-8f35a95fc5dc",
   "metadata": {},
   "outputs": [
    {
     "name": "stdout",
     "output_type": "stream",
     "text": [
      "\u001b[1mBook Name                                                                                 \u001b[0m\u001b[1mSeries Information\u001b[0m\n",
      "Sire Lines, Revised Edition (Blood-Horse Classics Library)                                nan  \n",
      "Patriot Games ((Blood-Horse Classics Library)) (Jack Ryan, #1; Jack Ryan Universe, #2)    ['Jack Ryan, #1', 'Jack Ryan Universe, #2']\n",
      "Oh, Cuan Lejos Llegaras! (Oh, the Places You'll Go!                                       nan  \n",
      "Ranma 1/2, Vol. 28 (Ranma ½ (US 2nd), #28)                                                ['US 2nd), #28']\n",
      "Fairy Realm edition, #1-3 (Fairy Realm, #1-3)                                             ['Fairy Realm, #1-3']\n",
      "Fairy Realm edition, #1.3 (Fairy Realm, #1.3)                                             ['Fairy Realm, #1.3']\n",
      "The Best Catch In Texas (Men of the West, #10) (Silhouette Special Edition #1814)         ['Men of the West, #10', 'Silhouette Special Edition #1814']\n",
      "Codes: How to Make Them and Break Them (Murderous Maths, # 14)                            ['Murderous Maths, # 14']\n",
      "Lovers and Ladies (Lovers and Ladies, #5&6)                                               ['Lovers and Ladies, #5&6']\n"
     ]
    }
   ],
   "source": [
    "series_pattern =  \"(?:[;]\\s*|\\(\\s*)([^\\(;]*\\s*#\\s*\\d+(?:\\.?\\d+|\\\\&\\d+|-?\\d*))\"\n",
    "def get_book_series_info(text):\n",
    "    series_info = re.findall(series_pattern, text)\n",
    "    return series_info if series_info else np.nan\n",
    "\n",
    "eda_data['BookSeriesInfo'] = eda_data.Name.apply(get_book_series_info)\n",
    "\n",
    "book_name_cases = [\"Sire Lines, Revised Edition (Blood-Horse Classics Library)\", \n",
    "                   \"Patriot Games ((Blood-Horse Classics Library)) (Jack Ryan, #1; Jack Ryan Universe, #2)\",\n",
    "                   \"Oh, Cuan Lejos Llegaras! (Oh, the Places You'll Go!\", \"Ranma 1/2, Vol. 28 (Ranma ½ (US 2nd), #28)\", \n",
    "                   \"Fairy Realm edition, #1-3 (Fairy Realm, #1-3)\", \"Fairy Realm edition, #1.3 (Fairy Realm, #1.3)\", \n",
    "                   \"The Best Catch In Texas (Men of the West, #10) (Silhouette Special Edition #1814)\",\n",
    "                   \"Codes: How to Make Them and Break Them (Murderous Maths, # 14)\",\n",
    "                   \"Lovers and Ladies (Lovers and Ladies, #5&6)\"]\n",
    "\n",
    "print(\"\\033[1m{:90}\\033[0m\\033[1m{:5}\\033[0m\".format(\"Book Name\", \"Series Information\"))\n",
    "for name in book_name_cases:\n",
    "    print(\"{!s:90}{!s:5}\".format(name, get_book_series_info(name)))\n"
   ]
  },
  {
   "cell_type": "markdown",
   "id": "d88c2d44-ed2f-43a7-b5b2-68028aabe149",
   "metadata": {},
   "source": [
    "- As we are using regex there will be certain exceptions, for example it misses a book name with nested brackets case. The name of the book is \"Ranma 1/2, Vol. 28 (Ranma ½ (US 2nd), #28)\", it should extract series information as `Ranma ½ (US 2nd), #28]`, instead, it extracts `[US 2nd), #28]`"
   ]
  },
  {
   "cell_type": "code",
   "execution_count": 58,
   "id": "2e4eace4-1bdd-4213-ac99-1e23099b47c9",
   "metadata": {},
   "outputs": [
    {
     "data": {
      "text/html": [
       "<div>\n",
       "<style scoped>\n",
       "    .dataframe tbody tr th:only-of-type {\n",
       "        vertical-align: middle;\n",
       "    }\n",
       "\n",
       "    .dataframe tbody tr th {\n",
       "        vertical-align: top;\n",
       "    }\n",
       "\n",
       "    .dataframe thead th {\n",
       "        text-align: right;\n",
       "    }\n",
       "</style>\n",
       "<table border=\"1\" class=\"dataframe\">\n",
       "  <thead>\n",
       "    <tr style=\"text-align: right;\">\n",
       "      <th></th>\n",
       "      <th>Id</th>\n",
       "      <th>Name</th>\n",
       "      <th>BookSeriesInfo</th>\n",
       "    </tr>\n",
       "  </thead>\n",
       "  <tbody>\n",
       "    <tr>\n",
       "      <th>34920</th>\n",
       "      <td>1087256</td>\n",
       "      <td>Lovers and Ladies (Lovers and Ladies, #5&amp;6)</td>\n",
       "      <td>[Lovers and Ladies, #5&amp;6]</td>\n",
       "    </tr>\n",
       "    <tr>\n",
       "      <th>37838</th>\n",
       "      <td>1094956</td>\n",
       "      <td>The Ultimate Hitchhiker's Guide to the Galaxy ...</td>\n",
       "      <td>[Hitchhiker's Guide, #1-5]</td>\n",
       "    </tr>\n",
       "    <tr>\n",
       "      <th>7619</th>\n",
       "      <td>1018819</td>\n",
       "      <td>The Stanislaski Sisters: Natasha and Rachel (S...</td>\n",
       "      <td>[Stanislaskis #1]</td>\n",
       "    </tr>\n",
       "    <tr>\n",
       "      <th>2414</th>\n",
       "      <td>1005974</td>\n",
       "      <td>The Scripture on the Explication of Underlying...</td>\n",
       "      <td>[Bdk English Tripitaka Translation Series, #25-]</td>\n",
       "    </tr>\n",
       "    <tr>\n",
       "      <th>4985</th>\n",
       "      <td>1012297</td>\n",
       "      <td>Princess in Pink / Project Princess (The Princ...</td>\n",
       "      <td>[The Princess Diaries, #4.5]</td>\n",
       "    </tr>\n",
       "  </tbody>\n",
       "</table>\n",
       "</div>"
      ],
      "text/plain": [
       "            Id                                               Name  \\\n",
       "34920  1087256        Lovers and Ladies (Lovers and Ladies, #5&6)   \n",
       "37838  1094956  The Ultimate Hitchhiker's Guide to the Galaxy ...   \n",
       "7619   1018819  The Stanislaski Sisters: Natasha and Rachel (S...   \n",
       "2414   1005974  The Scripture on the Explication of Underlying...   \n",
       "4985   1012297  Princess in Pink / Project Princess (The Princ...   \n",
       "\n",
       "                                         BookSeriesInfo  \n",
       "34920                         [Lovers and Ladies, #5&6]  \n",
       "37838                        [Hitchhiker's Guide, #1-5]  \n",
       "7619                                  [Stanislaskis #1]  \n",
       "2414   [Bdk English Tripitaka Translation Series, #25-]  \n",
       "4985                       [The Princess Diaries, #4.5]  "
      ]
     },
     "execution_count": 58,
     "metadata": {},
     "output_type": "execute_result"
    }
   ],
   "source": [
    "eda_data[[\"Id\",\"Name\", \"BookSeriesInfo\"]][eda_data.BookSeriesInfo.isna() == False]"
   ]
  },
  {
   "cell_type": "code",
   "execution_count": 59,
   "id": "c8d32a1b-acdd-46f4-bc9f-2bce3f5165f5",
   "metadata": {},
   "outputs": [
    {
     "data": {
      "text/plain": [
       "Id                    0\n",
       "Name                  0\n",
       "Authors               0\n",
       "ISBN                 84\n",
       "Rating                0\n",
       "PublishYear           0\n",
       "Publisher             0\n",
       "Language          27794\n",
       "Description           0\n",
       "BookSeriesInfo    34082\n",
       "dtype: int64"
      ]
     },
     "execution_count": 59,
     "metadata": {},
     "output_type": "execute_result"
    }
   ],
   "source": [
    "eda_data.isna().sum()"
   ]
  },
  {
   "cell_type": "markdown",
   "id": "b0175567-9b2d-48a6-aa42-1ff7cf6f245c",
   "metadata": {},
   "source": [
    "---\n",
    "### Remove the series info from the name of the book"
   ]
  },
  {
   "cell_type": "code",
   "execution_count": 67,
   "id": "e4f6f8bb-9d12-4aad-bc98-436ee01637eb",
   "metadata": {},
   "outputs": [
    {
     "name": "stdout",
     "output_type": "stream",
     "text": [
      "\u001b[1mBook Name                                                                                 \u001b[0m\u001b[1mSeries Information\u001b[0m\n",
      "Sire Lines, Revised Edition (Blood-Horse Classics Library)                                Sire Lines, Revised Edition (Blood-Horse Classics Library)\n",
      "Patriot Games ((Blood-Horse Classics Library)) (Jack Ryan, #1; Jack Ryan Universe, #2)    Patriot Games ((Blood-Horse Classics Library)) \n",
      "Oh, Cuan Lejos Llegaras! (Oh, the Places You'll Go!                                       Oh, Cuan Lejos Llegaras! (Oh, the Places You'll Go!\n",
      "Ranma 1/2, Vol. 28 (Ranma ½ (US 2nd), #28)                                                Ranma 1/2, Vol. 28 (Ranma ½ \n",
      "Fairy Realm edition, #1-3 (Fairy Realm, #1-3)                                             Fairy Realm edition, #1-3 \n",
      "Fairy Realm edition, #1.3 (Fairy Realm, #1.3)                                             Fairy Realm edition, #1.3 \n",
      "The Best Catch In Texas (Men of the West, #10) (Silhouette Special Edition #1814)         The Best Catch In Texas  \n",
      "Codes: How to Make Them and Break Them (Murderous Maths, # 14)                            Codes: How to Make Them and Break Them \n",
      "Lovers and Ladies (Lovers and Ladies, #5&6)                                               Lovers and Ladies \n"
     ]
    }
   ],
   "source": [
    "series_remove_pattern = re.compile(\"(?:[\\(]\\s*[^\\(;]*\\s*#\\s*\\d+(?:\\.?\\d+|\\\\&\\d+|-?\\d*)(?:;|\\))|\\s*[^\\(;]*\\s*#\\s*\\d+(?:\\.?\\d+|\\\\&\\d+|-?\\d*)\\))\")       \n",
    "def remove_series_info(text):\n",
    "    return re.sub(series_remove_pattern, r'', text)\n",
    "\n",
    "print(\"\\033[1m{:90}\\033[0m\\033[1m{:5}\\033[0m\".format(\"Book Name\", \"Series Information\"))\n",
    "for name in book_name_cases:\n",
    "    print(\"{!s:90}{!s:5}\".format(name, remove_series_info(name)))\n",
    "\n",
    "eda_data[\"Name\"]= eda_data[\"Name\"].str.replace(series_remove_pattern, r'').str.strip()"
   ]
  },
  {
   "cell_type": "markdown",
   "id": "0da51ca0-bcbe-4f8a-b3d9-c65e35850f31",
   "metadata": {},
   "source": [
    "---\n",
    "### Impute missing language with book title language"
   ]
  },
  {
   "cell_type": "code",
   "execution_count": null,
   "id": "d77f67ad-0eb0-48ad-bc1e-c0c3a4a91310",
   "metadata": {},
   "outputs": [],
   "source": [
    "# import numpy as np\n",
    "# from nltk.classify.textcat import TextCat\n",
    "# tc = TextCat()\n",
    "# def detect_language(text):\n",
    "#     # print(text, end=\"\\t\")\n",
    "#     # Guess language using first five words\n",
    "#     text = \" \".join(text.split()[:5])\n",
    "#     if text.isnumeric():\n",
    "#         # print(\"---NUMERIC---\")\n",
    "#         # print(\"eng\")\n",
    "#         return 'eng'\n",
    "#     else:\n",
    "#         # print(tc.guess_language(text).strip())\n",
    "#         return tc.guess_language(text).strip()\n",
    "# eda_data['Language'] = eda_data.apply(lambda x: detect_language(x['Name']) if pd.isna(x['Language']) else x['Language'], axis=1)"
   ]
  }
 ],
 "metadata": {
  "kernelspec": {
   "display_name": "Python 3.8.8 64-bit ('base': conda)",
   "language": "python",
   "name": "python388jvsc74a57bd07f3442a465ae60a77a568e8f587137e99c1e069ef530adecff2dbcea2bf4b313"
  },
  "language_info": {
   "codemirror_mode": {
    "name": "ipython",
    "version": 3
   },
   "file_extension": ".py",
   "mimetype": "text/x-python",
   "name": "python",
   "nbconvert_exporter": "python",
   "pygments_lexer": "ipython3",
   "version": "3.8.8"
  }
 },
 "nbformat": 4,
 "nbformat_minor": 5
}
