{
 "cells": [
  {
   "cell_type": "code",
   "execution_count": 139,
   "id": "a7b0999a-24f2-4a4c-ae8a-4a13e0e73b9c",
   "metadata": {},
   "outputs": [],
   "source": [
    "import pandas as pd\n",
    "import numpy as np"
   ]
  },
  {
   "cell_type": "code",
   "execution_count": 208,
   "id": "079dd233-6e37-4ca5-b1a7-73cf714759f4",
   "metadata": {},
   "outputs": [
    {
     "data": {
      "text/html": [
       "<div>\n",
       "<style scoped>\n",
       "    .dataframe tbody tr th:only-of-type {\n",
       "        vertical-align: middle;\n",
       "    }\n",
       "\n",
       "    .dataframe tbody tr th {\n",
       "        vertical-align: top;\n",
       "    }\n",
       "\n",
       "    .dataframe thead th {\n",
       "        text-align: right;\n",
       "    }\n",
       "</style>\n",
       "<table border=\"1\" class=\"dataframe\">\n",
       "  <thead>\n",
       "    <tr style=\"text-align: right;\">\n",
       "      <th></th>\n",
       "      <th>Id</th>\n",
       "      <th>Name</th>\n",
       "      <th>Authors</th>\n",
       "      <th>ISBN</th>\n",
       "      <th>Rating</th>\n",
       "      <th>PublishYear</th>\n",
       "      <th>PublishMonth</th>\n",
       "      <th>PublishDay</th>\n",
       "      <th>Publisher</th>\n",
       "      <th>RatingDist5</th>\n",
       "      <th>RatingDist4</th>\n",
       "      <th>RatingDist3</th>\n",
       "      <th>RatingDist2</th>\n",
       "      <th>RatingDist1</th>\n",
       "      <th>RatingDistTotal</th>\n",
       "      <th>CountsOfReview</th>\n",
       "      <th>Language</th>\n",
       "      <th>pagesNumber</th>\n",
       "      <th>Description</th>\n",
       "      <th>Count of text reviews</th>\n",
       "    </tr>\n",
       "  </thead>\n",
       "  <tbody>\n",
       "    <tr>\n",
       "      <th>0</th>\n",
       "      <td>1000000</td>\n",
       "      <td>Flight from Eden</td>\n",
       "      <td>Kathryn A. Graham</td>\n",
       "      <td>0595199402</td>\n",
       "      <td>4.00</td>\n",
       "      <td>2001</td>\n",
       "      <td>1</td>\n",
       "      <td>10</td>\n",
       "      <td>Writer's Showcase Press</td>\n",
       "      <td>5:1</td>\n",
       "      <td>4:1</td>\n",
       "      <td>3:1</td>\n",
       "      <td>2:0</td>\n",
       "      <td>1:0</td>\n",
       "      <td>total:3</td>\n",
       "      <td>1</td>\n",
       "      <td>NaN</td>\n",
       "      <td>380</td>\n",
       "      <td>What could a computer expert, a mercenary with...</td>\n",
       "      <td>1</td>\n",
       "    </tr>\n",
       "    <tr>\n",
       "      <th>1</th>\n",
       "      <td>1000001</td>\n",
       "      <td>Roommates Again</td>\n",
       "      <td>Kathryn O. Galbraith</td>\n",
       "      <td>0689505973</td>\n",
       "      <td>3.20</td>\n",
       "      <td>1994</td>\n",
       "      <td>1</td>\n",
       "      <td>4</td>\n",
       "      <td>Margaret K. McElderry Books</td>\n",
       "      <td>5:0</td>\n",
       "      <td>4:3</td>\n",
       "      <td>3:1</td>\n",
       "      <td>2:0</td>\n",
       "      <td>1:1</td>\n",
       "      <td>total:5</td>\n",
       "      <td>1</td>\n",
       "      <td>NaN</td>\n",
       "      <td>44</td>\n",
       "      <td>During their stay at Camp Sleep-Away, sisters ...</td>\n",
       "      <td>1</td>\n",
       "    </tr>\n",
       "    <tr>\n",
       "      <th>2</th>\n",
       "      <td>1000003</td>\n",
       "      <td>The King At The Door</td>\n",
       "      <td>Brock Cole</td>\n",
       "      <td>0374440417</td>\n",
       "      <td>3.95</td>\n",
       "      <td>1992</td>\n",
       "      <td>31</td>\n",
       "      <td>12</td>\n",
       "      <td>Farrar Straus Giroux</td>\n",
       "      <td>5:5</td>\n",
       "      <td>4:9</td>\n",
       "      <td>3:4</td>\n",
       "      <td>2:1</td>\n",
       "      <td>1:0</td>\n",
       "      <td>total:19</td>\n",
       "      <td>0</td>\n",
       "      <td>NaN</td>\n",
       "      <td>32</td>\n",
       "      <td>A poorly dressed old man appears at an inn and...</td>\n",
       "      <td>0</td>\n",
       "    </tr>\n",
       "    <tr>\n",
       "      <th>3</th>\n",
       "      <td>1000004</td>\n",
       "      <td>Giotto: The Scrovegni Chapel, Padua</td>\n",
       "      <td>Bruce Cole</td>\n",
       "      <td>080761310X</td>\n",
       "      <td>4.47</td>\n",
       "      <td>1993</td>\n",
       "      <td>1</td>\n",
       "      <td>8</td>\n",
       "      <td>George Braziller</td>\n",
       "      <td>5:9</td>\n",
       "      <td>4:5</td>\n",
       "      <td>3:0</td>\n",
       "      <td>2:1</td>\n",
       "      <td>1:0</td>\n",
       "      <td>total:15</td>\n",
       "      <td>2</td>\n",
       "      <td>NaN</td>\n",
       "      <td>118</td>\n",
       "      <td>This beautiful series lavishly illustrates the...</td>\n",
       "      <td>2</td>\n",
       "    </tr>\n",
       "    <tr>\n",
       "      <th>4</th>\n",
       "      <td>1000005</td>\n",
       "      <td>Larky Mavis</td>\n",
       "      <td>Brock Cole</td>\n",
       "      <td>0374343659</td>\n",
       "      <td>3.69</td>\n",
       "      <td>2001</td>\n",
       "      <td>3</td>\n",
       "      <td>8</td>\n",
       "      <td>Farrar, Straus and Giroux (BYR)</td>\n",
       "      <td>5:19</td>\n",
       "      <td>4:12</td>\n",
       "      <td>3:9</td>\n",
       "      <td>2:7</td>\n",
       "      <td>1:4</td>\n",
       "      <td>total:51</td>\n",
       "      <td>8</td>\n",
       "      <td>NaN</td>\n",
       "      <td>32</td>\n",
       "      <td>&lt;b&gt;Another orginal picture-book fairy tale&lt;/b&gt;...</td>\n",
       "      <td>8</td>\n",
       "    </tr>\n",
       "  </tbody>\n",
       "</table>\n",
       "</div>"
      ],
      "text/plain": [
       "        Id                                 Name               Authors  \\\n",
       "0  1000000                     Flight from Eden     Kathryn A. Graham   \n",
       "1  1000001                      Roommates Again  Kathryn O. Galbraith   \n",
       "2  1000003                 The King At The Door            Brock Cole   \n",
       "3  1000004  Giotto: The Scrovegni Chapel, Padua            Bruce Cole   \n",
       "4  1000005                          Larky Mavis            Brock Cole   \n",
       "\n",
       "         ISBN  Rating  PublishYear  PublishMonth  PublishDay  \\\n",
       "0  0595199402    4.00         2001             1          10   \n",
       "1  0689505973    3.20         1994             1           4   \n",
       "2  0374440417    3.95         1992            31          12   \n",
       "3  080761310X    4.47         1993             1           8   \n",
       "4  0374343659    3.69         2001             3           8   \n",
       "\n",
       "                         Publisher RatingDist5 RatingDist4 RatingDist3  \\\n",
       "0          Writer's Showcase Press         5:1         4:1         3:1   \n",
       "1      Margaret K. McElderry Books         5:0         4:3         3:1   \n",
       "2             Farrar Straus Giroux         5:5         4:9         3:4   \n",
       "3                 George Braziller         5:9         4:5         3:0   \n",
       "4  Farrar, Straus and Giroux (BYR)        5:19        4:12         3:9   \n",
       "\n",
       "  RatingDist2 RatingDist1 RatingDistTotal  CountsOfReview Language  \\\n",
       "0         2:0         1:0         total:3               1      NaN   \n",
       "1         2:0         1:1         total:5               1      NaN   \n",
       "2         2:1         1:0        total:19               0      NaN   \n",
       "3         2:1         1:0        total:15               2      NaN   \n",
       "4         2:7         1:4        total:51               8      NaN   \n",
       "\n",
       "   pagesNumber                                        Description  \\\n",
       "0          380  What could a computer expert, a mercenary with...   \n",
       "1           44  During their stay at Camp Sleep-Away, sisters ...   \n",
       "2           32  A poorly dressed old man appears at an inn and...   \n",
       "3          118  This beautiful series lavishly illustrates the...   \n",
       "4           32  <b>Another orginal picture-book fairy tale</b>...   \n",
       "\n",
       "   Count of text reviews  \n",
       "0                      1  \n",
       "1                      1  \n",
       "2                      0  \n",
       "3                      2  \n",
       "4                      8  "
      ]
     },
     "execution_count": 208,
     "metadata": {},
     "output_type": "execute_result"
    }
   ],
   "source": [
    "# Read the data\n",
    "data = pd.read_csv(\"data/goodreads_book.csv\")\n",
    "# Only keep columns we need\n",
    "data.head()     "
   ]
  },
  {
   "cell_type": "code",
   "execution_count": 141,
   "id": "1930e0d4-e1fb-4d3a-9ab2-d3ebf5c591d4",
   "metadata": {},
   "outputs": [
    {
     "data": {
      "text/plain": [
       "Index(['Id', 'Name', 'Authors', 'ISBN', 'Rating', 'PublishYear',\n",
       "       'PublishMonth', 'PublishDay', 'Publisher', 'RatingDist5', 'RatingDist4',\n",
       "       'RatingDist3', 'RatingDist2', 'RatingDist1', 'RatingDistTotal',\n",
       "       'CountsOfReview', 'Language', 'pagesNumber', 'Description',\n",
       "       'Count of text reviews'],\n",
       "      dtype='object')"
      ]
     },
     "execution_count": 141,
     "metadata": {},
     "output_type": "execute_result"
    }
   ],
   "source": [
    "# Check column names\n",
    "data.columns"
   ]
  },
  {
   "cell_type": "markdown",
   "id": "2f7d540e-b026-4b7d-88c3-65788a687966",
   "metadata": {},
   "source": [
    "---\n",
    "### Filter Columns"
   ]
  },
  {
   "cell_type": "code",
   "execution_count": 216,
   "id": "a4082c78-491e-45e0-8dd8-bf0d4b54b77e",
   "metadata": {},
   "outputs": [
    {
     "data": {
      "text/html": [
       "<div>\n",
       "<style scoped>\n",
       "    .dataframe tbody tr th:only-of-type {\n",
       "        vertical-align: middle;\n",
       "    }\n",
       "\n",
       "    .dataframe tbody tr th {\n",
       "        vertical-align: top;\n",
       "    }\n",
       "\n",
       "    .dataframe thead th {\n",
       "        text-align: right;\n",
       "    }\n",
       "</style>\n",
       "<table border=\"1\" class=\"dataframe\">\n",
       "  <thead>\n",
       "    <tr style=\"text-align: right;\">\n",
       "      <th></th>\n",
       "      <th>Id</th>\n",
       "      <th>Name</th>\n",
       "      <th>Authors</th>\n",
       "      <th>ISBN</th>\n",
       "      <th>Rating</th>\n",
       "      <th>PublishYear</th>\n",
       "      <th>Publisher</th>\n",
       "      <th>Language</th>\n",
       "      <th>Description</th>\n",
       "    </tr>\n",
       "  </thead>\n",
       "  <tbody>\n",
       "    <tr>\n",
       "      <th>0</th>\n",
       "      <td>1000000</td>\n",
       "      <td>Flight from Eden</td>\n",
       "      <td>Kathryn A. Graham</td>\n",
       "      <td>0595199402</td>\n",
       "      <td>4.00</td>\n",
       "      <td>2001</td>\n",
       "      <td>Writer's Showcase Press</td>\n",
       "      <td>NaN</td>\n",
       "      <td>What could a computer expert, a mercenary with...</td>\n",
       "    </tr>\n",
       "    <tr>\n",
       "      <th>1</th>\n",
       "      <td>1000001</td>\n",
       "      <td>Roommates Again</td>\n",
       "      <td>Kathryn O. Galbraith</td>\n",
       "      <td>0689505973</td>\n",
       "      <td>3.20</td>\n",
       "      <td>1994</td>\n",
       "      <td>Margaret K. McElderry Books</td>\n",
       "      <td>NaN</td>\n",
       "      <td>During their stay at Camp Sleep-Away, sisters ...</td>\n",
       "    </tr>\n",
       "    <tr>\n",
       "      <th>2</th>\n",
       "      <td>1000003</td>\n",
       "      <td>The King At The Door</td>\n",
       "      <td>Brock Cole</td>\n",
       "      <td>0374440417</td>\n",
       "      <td>3.95</td>\n",
       "      <td>1992</td>\n",
       "      <td>Farrar Straus Giroux</td>\n",
       "      <td>NaN</td>\n",
       "      <td>A poorly dressed old man appears at an inn and...</td>\n",
       "    </tr>\n",
       "    <tr>\n",
       "      <th>3</th>\n",
       "      <td>1000004</td>\n",
       "      <td>Giotto: The Scrovegni Chapel, Padua</td>\n",
       "      <td>Bruce Cole</td>\n",
       "      <td>080761310X</td>\n",
       "      <td>4.47</td>\n",
       "      <td>1993</td>\n",
       "      <td>George Braziller</td>\n",
       "      <td>NaN</td>\n",
       "      <td>This beautiful series lavishly illustrates the...</td>\n",
       "    </tr>\n",
       "    <tr>\n",
       "      <th>4</th>\n",
       "      <td>1000005</td>\n",
       "      <td>Larky Mavis</td>\n",
       "      <td>Brock Cole</td>\n",
       "      <td>0374343659</td>\n",
       "      <td>3.69</td>\n",
       "      <td>2001</td>\n",
       "      <td>Farrar, Straus and Giroux (BYR)</td>\n",
       "      <td>NaN</td>\n",
       "      <td>&lt;b&gt;Another orginal picture-book fairy tale&lt;/b&gt;...</td>\n",
       "    </tr>\n",
       "  </tbody>\n",
       "</table>\n",
       "</div>"
      ],
      "text/plain": [
       "        Id                                 Name               Authors  \\\n",
       "0  1000000                     Flight from Eden     Kathryn A. Graham   \n",
       "1  1000001                      Roommates Again  Kathryn O. Galbraith   \n",
       "2  1000003                 The King At The Door            Brock Cole   \n",
       "3  1000004  Giotto: The Scrovegni Chapel, Padua            Bruce Cole   \n",
       "4  1000005                          Larky Mavis            Brock Cole   \n",
       "\n",
       "         ISBN  Rating  PublishYear                        Publisher Language  \\\n",
       "0  0595199402    4.00         2001          Writer's Showcase Press      NaN   \n",
       "1  0689505973    3.20         1994      Margaret K. McElderry Books      NaN   \n",
       "2  0374440417    3.95         1992             Farrar Straus Giroux      NaN   \n",
       "3  080761310X    4.47         1993                 George Braziller      NaN   \n",
       "4  0374343659    3.69         2001  Farrar, Straus and Giroux (BYR)      NaN   \n",
       "\n",
       "                                         Description  \n",
       "0  What could a computer expert, a mercenary with...  \n",
       "1  During their stay at Camp Sleep-Away, sisters ...  \n",
       "2  A poorly dressed old man appears at an inn and...  \n",
       "3  This beautiful series lavishly illustrates the...  \n",
       "4  <b>Another orginal picture-book fairy tale</b>...  "
      ]
     },
     "execution_count": 216,
     "metadata": {},
     "output_type": "execute_result"
    }
   ],
   "source": [
    "# Only keep columns we need\n",
    "eda_data = data[['Id', 'Name', 'Authors', 'ISBN', 'Rating', 'PublishYear', 'Publisher', 'Language', 'Description']].copy()\n",
    "eda_data.head()     "
   ]
  },
  {
   "cell_type": "code",
   "execution_count": 143,
   "id": "b3df6561-e8b3-4f1c-9269-25c576aa55e9",
   "metadata": {},
   "outputs": [
    {
     "data": {
      "text/plain": [
       "(39705, 9)"
      ]
     },
     "execution_count": 143,
     "metadata": {},
     "output_type": "execute_result"
    }
   ],
   "source": [
    "# Find number of smaples and features\n",
    "eda_data.shape"
   ]
  },
  {
   "cell_type": "code",
   "execution_count": 144,
   "id": "f0112d32-4106-467a-be68-a7f28c697657",
   "metadata": {},
   "outputs": [
    {
     "name": "stdout",
     "output_type": "stream",
     "text": [
      "<class 'pandas.core.frame.DataFrame'>\n",
      "RangeIndex: 39705 entries, 0 to 39704\n",
      "Data columns (total 9 columns):\n",
      " #   Column       Non-Null Count  Dtype  \n",
      "---  ------       --------------  -----  \n",
      " 0   Id           39705 non-null  int64  \n",
      " 1   Name         39705 non-null  object \n",
      " 2   Authors      39705 non-null  object \n",
      " 3   ISBN         39577 non-null  object \n",
      " 4   Rating       39705 non-null  float64\n",
      " 5   PublishYear  39705 non-null  int64  \n",
      " 6   Publisher    39345 non-null  object \n",
      " 7   Language     7013 non-null   object \n",
      " 8   Description  34559 non-null  object \n",
      "dtypes: float64(1), int64(2), object(6)\n",
      "memory usage: 2.7+ MB\n"
     ]
    }
   ],
   "source": [
    "# Check data types of features\n",
    "eda_data.info()"
   ]
  },
  {
   "cell_type": "code",
   "execution_count": 145,
   "id": "1c1168f4-b13d-4beb-8690-fbb719a94d56",
   "metadata": {},
   "outputs": [
    {
     "data": {
      "text/html": [
       "<div>\n",
       "<style scoped>\n",
       "    .dataframe tbody tr th:only-of-type {\n",
       "        vertical-align: middle;\n",
       "    }\n",
       "\n",
       "    .dataframe tbody tr th {\n",
       "        vertical-align: top;\n",
       "    }\n",
       "\n",
       "    .dataframe thead th {\n",
       "        text-align: right;\n",
       "    }\n",
       "</style>\n",
       "<table border=\"1\" class=\"dataframe\">\n",
       "  <thead>\n",
       "    <tr style=\"text-align: right;\">\n",
       "      <th></th>\n",
       "      <th>Id</th>\n",
       "      <th>Rating</th>\n",
       "      <th>PublishYear</th>\n",
       "    </tr>\n",
       "  </thead>\n",
       "  <tbody>\n",
       "    <tr>\n",
       "      <th>count</th>\n",
       "      <td>3.970500e+04</td>\n",
       "      <td>39705.000000</td>\n",
       "      <td>39705.000000</td>\n",
       "    </tr>\n",
       "    <tr>\n",
       "      <th>mean</th>\n",
       "      <td>1.049590e+06</td>\n",
       "      <td>3.412516</td>\n",
       "      <td>1998.979751</td>\n",
       "    </tr>\n",
       "    <tr>\n",
       "      <th>std</th>\n",
       "      <td>2.871678e+04</td>\n",
       "      <td>1.302399</td>\n",
       "      <td>8.390990</td>\n",
       "    </tr>\n",
       "    <tr>\n",
       "      <th>min</th>\n",
       "      <td>1.000000e+06</td>\n",
       "      <td>0.000000</td>\n",
       "      <td>1898.000000</td>\n",
       "    </tr>\n",
       "    <tr>\n",
       "      <th>25%</th>\n",
       "      <td>1.025072e+06</td>\n",
       "      <td>3.400000</td>\n",
       "      <td>1996.000000</td>\n",
       "    </tr>\n",
       "    <tr>\n",
       "      <th>50%</th>\n",
       "      <td>1.049176e+06</td>\n",
       "      <td>3.820000</td>\n",
       "      <td>2001.000000</td>\n",
       "    </tr>\n",
       "    <tr>\n",
       "      <th>75%</th>\n",
       "      <td>1.074358e+06</td>\n",
       "      <td>4.080000</td>\n",
       "      <td>2005.000000</td>\n",
       "    </tr>\n",
       "    <tr>\n",
       "      <th>max</th>\n",
       "      <td>1.099996e+06</td>\n",
       "      <td>5.000000</td>\n",
       "      <td>2030.000000</td>\n",
       "    </tr>\n",
       "  </tbody>\n",
       "</table>\n",
       "</div>"
      ],
      "text/plain": [
       "                 Id        Rating   PublishYear\n",
       "count  3.970500e+04  39705.000000  39705.000000\n",
       "mean   1.049590e+06      3.412516   1998.979751\n",
       "std    2.871678e+04      1.302399      8.390990\n",
       "min    1.000000e+06      0.000000   1898.000000\n",
       "25%    1.025072e+06      3.400000   1996.000000\n",
       "50%    1.049176e+06      3.820000   2001.000000\n",
       "75%    1.074358e+06      4.080000   2005.000000\n",
       "max    1.099996e+06      5.000000   2030.000000"
      ]
     },
     "execution_count": 145,
     "metadata": {},
     "output_type": "execute_result"
    }
   ],
   "source": [
    "# Quantiles Summary\n",
    "eda_data.describe()"
   ]
  },
  {
   "cell_type": "markdown",
   "id": "f7113473-1016-46ea-9c6e-a60362e67174",
   "metadata": {},
   "source": [
    "---\n",
    "---\n",
    "# Data Cleaning"
   ]
  },
  {
   "cell_type": "markdown",
   "id": "2edc87db-75ab-4018-9392-4a394088e0ee",
   "metadata": {
    "tags": []
   },
   "source": [
    "---\n",
    "### Find missing values and replace with appropriate substitution."
   ]
  },
  {
   "cell_type": "code",
   "execution_count": 165,
   "id": "3b46b34b-434e-43f6-a5f2-cd776eb2b62b",
   "metadata": {
    "tags": []
   },
   "outputs": [
    {
     "data": {
      "text/plain": [
       "Id                 0\n",
       "Name               0\n",
       "Authors            0\n",
       "ISBN             128\n",
       "Rating             0\n",
       "PublishYear        0\n",
       "Publisher        360\n",
       "Language       32692\n",
       "Description     5146\n",
       "dtype: int64"
      ]
     },
     "execution_count": 165,
     "metadata": {},
     "output_type": "execute_result"
    }
   ],
   "source": [
    "# Find number of NaN in each column\n",
    "eda_data.isna().sum()"
   ]
  },
  {
   "cell_type": "code",
   "execution_count": 166,
   "id": "ac1c79ff-f758-4311-8bc4-09d751408007",
   "metadata": {},
   "outputs": [
    {
     "data": {
      "text/plain": [
       "array([nan, 'eng', 'fre', 'en-US', 'en-GB', 'spa', 'ger', 'ita', 'jpn',\n",
       "       'en-CA', 'nl', 'lat', 'cat', 'cze', 'grc', 'por', 'per', 'rus',\n",
       "       'mul', 'swe', 'ind', 'rum', 'raj', 'ang', 'afr', 'eus', 'zho',\n",
       "       'ypk', 'gle', 'frm', 'tur'], dtype=object)"
      ]
     },
     "execution_count": 166,
     "metadata": {},
     "output_type": "execute_result"
    }
   ],
   "source": [
    "eda_data.Language.unique()"
   ]
  },
  {
   "cell_type": "markdown",
   "id": "62e3eb2a-a11e-40e2-9610-46ad1af3f40d",
   "metadata": {},
   "source": [
    "---\n",
    "### Replace missing publisher info with unknown"
   ]
  },
  {
   "cell_type": "code",
   "execution_count": 217,
   "id": "7fe4045a-58ab-4da3-87bf-980f354627f0",
   "metadata": {},
   "outputs": [],
   "source": [
    "eda_data[[\"Publisher\"]] = eda_data[[\"Publisher\"]].fillna(\"unknown\")"
   ]
  },
  {
   "cell_type": "code",
   "execution_count": 155,
   "id": "5ddb3d8c-c562-4257-92db-1a91f4da19d2",
   "metadata": {},
   "outputs": [
    {
     "data": {
      "text/plain": [
       "Id                 0\n",
       "Name               0\n",
       "Authors            0\n",
       "ISBN             128\n",
       "Rating             0\n",
       "PublishYear        0\n",
       "Publisher          0\n",
       "Language       32692\n",
       "Description     5146\n",
       "dtype: int64"
      ]
     },
     "execution_count": 155,
     "metadata": {},
     "output_type": "execute_result"
    }
   ],
   "source": [
    "eda_data.isna().sum()"
   ]
  },
  {
   "cell_type": "markdown",
   "id": "cf510140-8314-45e8-bc29-e4edc5c3fd09",
   "metadata": {},
   "source": [
    "---\n",
    "### Remove rows with missing description"
   ]
  },
  {
   "cell_type": "code",
   "execution_count": 218,
   "id": "c10b9447-4e0c-4816-8fca-ba6b0682b981",
   "metadata": {},
   "outputs": [],
   "source": [
    "# Remove rows having atleast ine NaN in any feature\n",
    "# eda_data.dropna(axis=0, how=\"any\", inplace=True)\n",
    "eda_data.dropna(subset=[\"Description\"], inplace=True)"
   ]
  },
  {
   "cell_type": "markdown",
   "id": "d0a6315b-3f37-4842-9bbb-3182774c8354",
   "metadata": {},
   "source": [
    "---\n",
    "### Remove extra spaces from the text columns and convert the lettercase to lower"
   ]
  },
  {
   "cell_type": "code",
   "execution_count": 219,
   "id": "68645a99-8e04-471a-af4d-8e7d853eb2a8",
   "metadata": {},
   "outputs": [
    {
     "data": {
      "text/html": [
       "<div>\n",
       "<style scoped>\n",
       "    .dataframe tbody tr th:only-of-type {\n",
       "        vertical-align: middle;\n",
       "    }\n",
       "\n",
       "    .dataframe tbody tr th {\n",
       "        vertical-align: top;\n",
       "    }\n",
       "\n",
       "    .dataframe thead th {\n",
       "        text-align: right;\n",
       "    }\n",
       "</style>\n",
       "<table border=\"1\" class=\"dataframe\">\n",
       "  <thead>\n",
       "    <tr style=\"text-align: right;\">\n",
       "      <th></th>\n",
       "      <th>Id</th>\n",
       "      <th>Name</th>\n",
       "      <th>Authors</th>\n",
       "      <th>ISBN</th>\n",
       "      <th>Rating</th>\n",
       "      <th>PublishYear</th>\n",
       "      <th>Publisher</th>\n",
       "      <th>Language</th>\n",
       "      <th>Description</th>\n",
       "    </tr>\n",
       "  </thead>\n",
       "  <tbody>\n",
       "    <tr>\n",
       "      <th>0</th>\n",
       "      <td>1000000</td>\n",
       "      <td>flight from eden</td>\n",
       "      <td>kathryn a. graham</td>\n",
       "      <td>0595199402</td>\n",
       "      <td>4.00</td>\n",
       "      <td>2001</td>\n",
       "      <td>writer's showcase press</td>\n",
       "      <td>NaN</td>\n",
       "      <td>what could a computer expert, a mercenary with...</td>\n",
       "    </tr>\n",
       "    <tr>\n",
       "      <th>1</th>\n",
       "      <td>1000001</td>\n",
       "      <td>roommates again</td>\n",
       "      <td>kathryn o. galbraith</td>\n",
       "      <td>0689505973</td>\n",
       "      <td>3.20</td>\n",
       "      <td>1994</td>\n",
       "      <td>margaret k. mcelderry books</td>\n",
       "      <td>NaN</td>\n",
       "      <td>during their stay at camp sleep-away, sisters ...</td>\n",
       "    </tr>\n",
       "    <tr>\n",
       "      <th>2</th>\n",
       "      <td>1000003</td>\n",
       "      <td>the king at the door</td>\n",
       "      <td>brock cole</td>\n",
       "      <td>0374440417</td>\n",
       "      <td>3.95</td>\n",
       "      <td>1992</td>\n",
       "      <td>farrar straus giroux</td>\n",
       "      <td>NaN</td>\n",
       "      <td>a poorly dressed old man appears at an inn and...</td>\n",
       "    </tr>\n",
       "    <tr>\n",
       "      <th>3</th>\n",
       "      <td>1000004</td>\n",
       "      <td>giotto: the scrovegni chapel, padua</td>\n",
       "      <td>bruce cole</td>\n",
       "      <td>080761310X</td>\n",
       "      <td>4.47</td>\n",
       "      <td>1993</td>\n",
       "      <td>george braziller</td>\n",
       "      <td>NaN</td>\n",
       "      <td>this beautiful series lavishly illustrates the...</td>\n",
       "    </tr>\n",
       "    <tr>\n",
       "      <th>4</th>\n",
       "      <td>1000005</td>\n",
       "      <td>larky mavis</td>\n",
       "      <td>brock cole</td>\n",
       "      <td>0374343659</td>\n",
       "      <td>3.69</td>\n",
       "      <td>2001</td>\n",
       "      <td>farrar, straus and giroux (byr)</td>\n",
       "      <td>NaN</td>\n",
       "      <td>&lt;b&gt;another orginal picture-book fairy tale&lt;/b&gt;...</td>\n",
       "    </tr>\n",
       "    <tr>\n",
       "      <th>...</th>\n",
       "      <td>...</td>\n",
       "      <td>...</td>\n",
       "      <td>...</td>\n",
       "      <td>...</td>\n",
       "      <td>...</td>\n",
       "      <td>...</td>\n",
       "      <td>...</td>\n",
       "      <td>...</td>\n",
       "      <td>...</td>\n",
       "    </tr>\n",
       "    <tr>\n",
       "      <th>39700</th>\n",
       "      <td>1099974</td>\n",
       "      <td>the cat in the hat beginner book dictionary</td>\n",
       "      <td>p.d. eastman</td>\n",
       "      <td>0394910095</td>\n",
       "      <td>4.39</td>\n",
       "      <td>2007</td>\n",
       "      <td>random house books for young readers</td>\n",
       "      <td>NaN</td>\n",
       "      <td>a silly book with a serious purpose—to help ch...</td>\n",
       "    </tr>\n",
       "    <tr>\n",
       "      <th>39701</th>\n",
       "      <td>1099979</td>\n",
       "      <td>oh say can you say what's the weather today?: ...</td>\n",
       "      <td>tish rabe</td>\n",
       "      <td>0375922768</td>\n",
       "      <td>4.19</td>\n",
       "      <td>2004</td>\n",
       "      <td>random house books for young readers</td>\n",
       "      <td>NaN</td>\n",
       "      <td>the cat and company travel by hot air balloon ...</td>\n",
       "    </tr>\n",
       "    <tr>\n",
       "      <th>39702</th>\n",
       "      <td>1099987</td>\n",
       "      <td>jewels on the crescent: masterpieces of the ch...</td>\n",
       "      <td>kalpana desai</td>\n",
       "      <td>189020644X</td>\n",
       "      <td>5.00</td>\n",
       "      <td>2008</td>\n",
       "      <td>mapin publishing pvt</td>\n",
       "      <td>NaN</td>\n",
       "      <td>situated on the famous crescent site near the ...</td>\n",
       "    </tr>\n",
       "    <tr>\n",
       "      <th>39703</th>\n",
       "      <td>1099989</td>\n",
       "      <td>goodnight moon</td>\n",
       "      <td>margaret wise brown</td>\n",
       "      <td>0064430170</td>\n",
       "      <td>4.28</td>\n",
       "      <td>2007</td>\n",
       "      <td>harpercollins</td>\n",
       "      <td>NaN</td>\n",
       "      <td>&lt;strong&gt;in this classic of children's literatu...</td>\n",
       "    </tr>\n",
       "    <tr>\n",
       "      <th>39704</th>\n",
       "      <td>1099996</td>\n",
       "      <td>the voices of heaven</td>\n",
       "      <td>frederik pohl</td>\n",
       "      <td>0312856431</td>\n",
       "      <td>3.32</td>\n",
       "      <td>1994</td>\n",
       "      <td>tor books</td>\n",
       "      <td>NaN</td>\n",
       "      <td>on a fragile new world, the only innocents are...</td>\n",
       "    </tr>\n",
       "  </tbody>\n",
       "</table>\n",
       "<p>34559 rows × 9 columns</p>\n",
       "</div>"
      ],
      "text/plain": [
       "            Id                                               Name  \\\n",
       "0      1000000                                   flight from eden   \n",
       "1      1000001                                    roommates again   \n",
       "2      1000003                               the king at the door   \n",
       "3      1000004                giotto: the scrovegni chapel, padua   \n",
       "4      1000005                                        larky mavis   \n",
       "...        ...                                                ...   \n",
       "39700  1099974        the cat in the hat beginner book dictionary   \n",
       "39701  1099979  oh say can you say what's the weather today?: ...   \n",
       "39702  1099987  jewels on the crescent: masterpieces of the ch...   \n",
       "39703  1099989                                     goodnight moon   \n",
       "39704  1099996                               the voices of heaven   \n",
       "\n",
       "                    Authors        ISBN  Rating  PublishYear  \\\n",
       "0         kathryn a. graham  0595199402    4.00         2001   \n",
       "1      kathryn o. galbraith  0689505973    3.20         1994   \n",
       "2                brock cole  0374440417    3.95         1992   \n",
       "3                bruce cole  080761310X    4.47         1993   \n",
       "4                brock cole  0374343659    3.69         2001   \n",
       "...                     ...         ...     ...          ...   \n",
       "39700          p.d. eastman  0394910095    4.39         2007   \n",
       "39701             tish rabe  0375922768    4.19         2004   \n",
       "39702         kalpana desai  189020644X    5.00         2008   \n",
       "39703   margaret wise brown  0064430170    4.28         2007   \n",
       "39704         frederik pohl  0312856431    3.32         1994   \n",
       "\n",
       "                                  Publisher Language  \\\n",
       "0                   writer's showcase press      NaN   \n",
       "1               margaret k. mcelderry books      NaN   \n",
       "2                      farrar straus giroux      NaN   \n",
       "3                          george braziller      NaN   \n",
       "4           farrar, straus and giroux (byr)      NaN   \n",
       "...                                     ...      ...   \n",
       "39700  random house books for young readers      NaN   \n",
       "39701  random house books for young readers      NaN   \n",
       "39702                  mapin publishing pvt      NaN   \n",
       "39703                         harpercollins      NaN   \n",
       "39704                             tor books      NaN   \n",
       "\n",
       "                                             Description  \n",
       "0      what could a computer expert, a mercenary with...  \n",
       "1      during their stay at camp sleep-away, sisters ...  \n",
       "2      a poorly dressed old man appears at an inn and...  \n",
       "3      this beautiful series lavishly illustrates the...  \n",
       "4      <b>another orginal picture-book fairy tale</b>...  \n",
       "...                                                  ...  \n",
       "39700  a silly book with a serious purpose—to help ch...  \n",
       "39701  the cat and company travel by hot air balloon ...  \n",
       "39702  situated on the famous crescent site near the ...  \n",
       "39703  <strong>in this classic of children's literatu...  \n",
       "39704  on a fragile new world, the only innocents are...  \n",
       "\n",
       "[34559 rows x 9 columns]"
      ]
     },
     "execution_count": 219,
     "metadata": {},
     "output_type": "execute_result"
    }
   ],
   "source": [
    "eda_data[[\"Name\", \"Authors\", \"Publisher\", \"Description\"]] = pd.concat([eda_data[col].fillna('').astype(str).str.lower() for col in [\"Name\", \"Authors\", \"Publisher\", \"Description\"]], axis=1)\n",
    "eda_data"
   ]
  },
  {
   "cell_type": "code",
   "execution_count": 220,
   "id": "e6966448-5247-4eab-9274-dabd885682a1",
   "metadata": {},
   "outputs": [
    {
     "data": {
      "text/plain": [
       "Id                 0\n",
       "Name             107\n",
       "Authors         9349\n",
       "ISBN              87\n",
       "Rating         34296\n",
       "PublishYear    34468\n",
       "Publisher      28517\n",
       "Language       34531\n",
       "Description      425\n",
       "dtype: int64"
      ]
     },
     "execution_count": 220,
     "metadata": {},
     "output_type": "execute_result"
    }
   ],
   "source": [
    "eda_data.shape[0] - eda_data.nunique()"
   ]
  },
  {
   "cell_type": "code",
   "execution_count": 222,
   "id": "539117f3-0a8f-474f-bb9a-cfff2fed9406",
   "metadata": {},
   "outputs": [
    {
     "data": {
      "text/html": [
       "<div>\n",
       "<style scoped>\n",
       "    .dataframe tbody tr th:only-of-type {\n",
       "        vertical-align: middle;\n",
       "    }\n",
       "\n",
       "    .dataframe tbody tr th {\n",
       "        vertical-align: top;\n",
       "    }\n",
       "\n",
       "    .dataframe thead th {\n",
       "        text-align: right;\n",
       "    }\n",
       "</style>\n",
       "<table border=\"1\" class=\"dataframe\">\n",
       "  <thead>\n",
       "    <tr style=\"text-align: right;\">\n",
       "      <th></th>\n",
       "      <th>Id</th>\n",
       "      <th>Name</th>\n",
       "      <th>Authors</th>\n",
       "      <th>Publisher</th>\n",
       "      <th>Language</th>\n",
       "      <th>Description</th>\n",
       "    </tr>\n",
       "  </thead>\n",
       "  <tbody>\n",
       "    <tr>\n",
       "      <th>1384</th>\n",
       "      <td>1003324</td>\n",
       "      <td>the war hound and the world's pain</td>\n",
       "      <td>michael moorcock</td>\n",
       "      <td>NaN</td>\n",
       "      <td>NaN</td>\n",
       "      <td>the basic premise is that lucifer isn't an omn...</td>\n",
       "    </tr>\n",
       "    <tr>\n",
       "      <th>1385</th>\n",
       "      <td>1003326</td>\n",
       "      <td>the war hound and the world's pain</td>\n",
       "      <td>michael moorcock</td>\n",
       "      <td>NaN</td>\n",
       "      <td>eng</td>\n",
       "      <td>the basic premise is that lucifer isn't an omn...</td>\n",
       "    </tr>\n",
       "    <tr>\n",
       "      <th>5446</th>\n",
       "      <td>1013271</td>\n",
       "      <td>sonnets and salsa</td>\n",
       "      <td>carmen tafolla</td>\n",
       "      <td>wings press</td>\n",
       "      <td>NaN</td>\n",
       "      <td>this major poetry collection is a fearless dep...</td>\n",
       "    </tr>\n",
       "    <tr>\n",
       "      <th>7744</th>\n",
       "      <td>1019211</td>\n",
       "      <td>i am charlotte simmons</td>\n",
       "      <td>tom wolfe</td>\n",
       "      <td>macmillan audio</td>\n",
       "      <td>en-GB</td>\n",
       "      <td>&lt;b&gt;2005 audie award finalist&lt;/b&gt;&lt;br /&gt;&lt;b&gt;&lt;/b&gt;&lt;...</td>\n",
       "    </tr>\n",
       "    <tr>\n",
       "      <th>7745</th>\n",
       "      <td>1019212</td>\n",
       "      <td>i am charlotte simmons</td>\n",
       "      <td>tom wolfe</td>\n",
       "      <td>macmillan audio</td>\n",
       "      <td>NaN</td>\n",
       "      <td>&lt;b&gt;2005 audie award finalist&lt;/b&gt;&lt;br /&gt;&lt;b&gt;&lt;/b&gt;&lt;...</td>\n",
       "    </tr>\n",
       "    <tr>\n",
       "      <th>17599</th>\n",
       "      <td>1043822</td>\n",
       "      <td>on black men</td>\n",
       "      <td>david marriott</td>\n",
       "      <td>edinburgh university press</td>\n",
       "      <td>NaN</td>\n",
       "      <td>mutilated, dying or dead, black men have a rol...</td>\n",
       "    </tr>\n",
       "    <tr>\n",
       "      <th>17603</th>\n",
       "      <td>1043833</td>\n",
       "      <td>on black men</td>\n",
       "      <td>david marriott</td>\n",
       "      <td>edinburgh university press</td>\n",
       "      <td>NaN</td>\n",
       "      <td>mutilated, dying or dead, black men have a rol...</td>\n",
       "    </tr>\n",
       "    <tr>\n",
       "      <th>37241</th>\n",
       "      <td>1093263</td>\n",
       "      <td>sonnets and salsa</td>\n",
       "      <td>carmen tafolla</td>\n",
       "      <td>wings press</td>\n",
       "      <td>NaN</td>\n",
       "      <td>this major poetry collection is a fearless dep...</td>\n",
       "    </tr>\n",
       "  </tbody>\n",
       "</table>\n",
       "</div>"
      ],
      "text/plain": [
       "            Id                                Name           Authors  \\\n",
       "1384   1003324  the war hound and the world's pain  michael moorcock   \n",
       "1385   1003326  the war hound and the world's pain  michael moorcock   \n",
       "5446   1013271                   sonnets and salsa    carmen tafolla   \n",
       "7744   1019211              i am charlotte simmons         tom wolfe   \n",
       "7745   1019212              i am charlotte simmons         tom wolfe   \n",
       "17599  1043822                        on black men    david marriott   \n",
       "17603  1043833                        on black men    david marriott   \n",
       "37241  1093263                   sonnets and salsa    carmen tafolla   \n",
       "\n",
       "                        Publisher Language  \\\n",
       "1384                          NaN      NaN   \n",
       "1385                          NaN      eng   \n",
       "5446                  wings press      NaN   \n",
       "7744              macmillan audio    en-GB   \n",
       "7745              macmillan audio      NaN   \n",
       "17599  edinburgh university press      NaN   \n",
       "17603  edinburgh university press      NaN   \n",
       "37241                 wings press      NaN   \n",
       "\n",
       "                                             Description  \n",
       "1384   the basic premise is that lucifer isn't an omn...  \n",
       "1385   the basic premise is that lucifer isn't an omn...  \n",
       "5446   this major poetry collection is a fearless dep...  \n",
       "7744   <b>2005 audie award finalist</b><br /><b></b><...  \n",
       "7745   <b>2005 audie award finalist</b><br /><b></b><...  \n",
       "17599  mutilated, dying or dead, black men have a rol...  \n",
       "17603  mutilated, dying or dead, black men have a rol...  \n",
       "37241  this major poetry collection is a fearless dep...  "
      ]
     },
     "execution_count": 222,
     "metadata": {},
     "output_type": "execute_result"
    }
   ],
   "source": [
    "# Convert unknown to NaN\n",
    "eda_data[\"Publisher\"] = eda_data.Publisher.replace('unknown',np.nan)\n",
    "\n",
    "# Find books that have same Name Author, Description and Publisher\n",
    "eda_data[eda_data.duplicated(subset=[\"Name\", \"Authors\", \"Publisher\", \"Description\"], keep=False)][[\"Id\",\"Name\", \"Authors\", \"Publisher\", \"Language\", \"Description\"]]"
   ]
  },
  {
   "cell_type": "markdown",
   "id": "b8f52bf9-ae50-4899-b52e-10329d85231a",
   "metadata": {},
   "source": [
    "### Drop variants of the same book\n",
    "- Same book can have different ISBN. ISBN is like an identity number for each edition, imprint, impression or version of the same book."
   ]
  },
  {
   "cell_type": "code",
   "execution_count": 226,
   "id": "7e03665c-dfb4-48de-a4b6-eb0aaee2fdc5",
   "metadata": {},
   "outputs": [],
   "source": [
    "eda_data = eda_data.sort_values(by=\"Publisher\", na_position='last').drop_duplicates(subset=[\"Name\", \"Authors\", \"Publisher\", \"Description\"], keep='first')"
   ]
  },
  {
   "cell_type": "markdown",
   "id": "4b630693-e975-4fc7-8da1-5b9dfb7c561d",
   "metadata": {},
   "source": [
    "---\n",
    "### Remove URLs from the description"
   ]
  },
  {
   "cell_type": "code",
   "execution_count": 195,
   "id": "5316dbac-86e6-427b-b4c6-b997136d5f22",
   "metadata": {},
   "outputs": [
    {
     "data": {
      "text/plain": [
       "['<i>alternate cover edition can be found <a href=\"https://www.goodreads.com/book/show/38559855\" rel=\"nofollow\">here</a></i><br /><br />das böse hält keinen winterschlaf.<br />kathy reichs auch nicht.<br /><br /><br />was könnte frostiger sein als ein kanadischer dezembersturm? tempe brennan, forensische anthropologin in montreal, wird an einem tristen montagmorgen zu einem fundort gerufen, der ihr das blut in den adern gefrieren lässt. verscharrt in einem kellergewölbe liegen die leichen dreier junger frauen. nicht eine gewebefaser, kein fetzen kleidung geben aufschluss darüber, wann und warum diese mädchen sterben mussten. nur dank akribischer ermittlungen und weiblicher intuition kommt tempe dem mörder auf die spur. doch sie muss auf alles gefasst sein, denn ihr gegner ist an kaltblütigkeit nicht zu übertreffen …<br /><br /><br />tempe brennans siebter fall.<br /><br /><br /><br /><br />']"
      ]
     },
     "execution_count": 195,
     "metadata": {},
     "output_type": "execute_result"
    }
   ],
   "source": [
    "list(eda_data.Description[eda_data.Id == 1099555]) #Description with url and html tag"
   ]
  },
  {
   "cell_type": "code",
   "execution_count": 227,
   "id": "0a29577b-c26c-4b60-bef3-e234a4ef0442",
   "metadata": {},
   "outputs": [],
   "source": [
    "import re\n",
    "url_pattern = re.compile(r'https?://\\S+|www\\.\\S+')\n",
    "def remove_url(text):   \n",
    "    return re.sub(url_pattern, r'', text)\n",
    "\n",
    "eda_data.Description = eda_data.Description.apply(remove_url)"
   ]
  },
  {
   "cell_type": "markdown",
   "id": "5eb371f7-e631-41c1-864f-8a85468b36c5",
   "metadata": {},
   "source": [
    "---\n",
    "### Remove html tags from the description."
   ]
  },
  {
   "cell_type": "code",
   "execution_count": 228,
   "id": "52e4d56a-80ae-4fb9-a408-a205f0e36214",
   "metadata": {},
   "outputs": [],
   "source": [
    "html_pattern = re.compile('<[^>]*>')\n",
    "def clean_html_tags(text):\n",
    "    return re.sub(html_pattern, r'', text)\n",
    "\n",
    "eda_data.Description = eda_data.Description.apply(clean_html_tags)"
   ]
  },
  {
   "cell_type": "code",
   "execution_count": 16,
   "id": "8798e01c-b9f1-4f09-ad10-5ecab62d870d",
   "metadata": {},
   "outputs": [
    {
     "data": {
      "text/plain": [
       "['Alternate Cover Edition can be found hereDas Böse hält keinen Winterschlaf.Kathy Reichs auch nicht.Was könnte frostiger sein als ein kanadischer Dezembersturm? Tempe Brennan, forensische Anthropologin in Montreal, wird an einem tristen Montagmorgen zu einem Fundort gerufen, der ihr das Blut in den Adern gefrieren lässt. Verscharrt in einem Kellergewölbe liegen die Leichen dreier junger Frauen. Nicht eine Gewebefaser, kein Fetzen Kleidung geben Aufschluss darüber, wann und warum diese Mädchen sterben mussten. Nur dank akribischer Ermittlungen und weiblicher Intuition kommt Tempe dem Mörder auf die Spur. Doch sie muss auf alles gefasst sein, denn ihr Gegner ist an Kaltblütigkeit nicht zu übertreffen …Tempe Brennans siebter Fall.']"
      ]
     },
     "execution_count": 16,
     "metadata": {},
     "output_type": "execute_result"
    }
   ],
   "source": [
    "list(eda_data.Description[eda_data.Id == 1099555])"
   ]
  },
  {
   "cell_type": "markdown",
   "id": "7127abef-d4e6-4e7b-97a8-7e4cb8a8e2e3",
   "metadata": {},
   "source": [
    "---\n",
    "### Find book descriptions with very short length and remove them."
   ]
  },
  {
   "cell_type": "code",
   "execution_count": 229,
   "id": "6457f0fb-3a1d-48c8-9b0d-d25b5a94056d",
   "metadata": {},
   "outputs": [
    {
     "data": {
      "text/html": [
       "<div>\n",
       "<style scoped>\n",
       "    .dataframe tbody tr th:only-of-type {\n",
       "        vertical-align: middle;\n",
       "    }\n",
       "\n",
       "    .dataframe tbody tr th {\n",
       "        vertical-align: top;\n",
       "    }\n",
       "\n",
       "    .dataframe thead th {\n",
       "        text-align: right;\n",
       "    }\n",
       "</style>\n",
       "<table border=\"1\" class=\"dataframe\">\n",
       "  <thead>\n",
       "    <tr style=\"text-align: right;\">\n",
       "      <th></th>\n",
       "      <th>Id</th>\n",
       "      <th>Name</th>\n",
       "      <th>Description</th>\n",
       "      <th>length</th>\n",
       "    </tr>\n",
       "  </thead>\n",
       "  <tbody>\n",
       "    <tr>\n",
       "      <th>2327</th>\n",
       "      <td>1005785</td>\n",
       "      <td>tag-along tails: ring tailed lemur</td>\n",
       "      <td></td>\n",
       "      <td>0</td>\n",
       "    </tr>\n",
       "    <tr>\n",
       "      <th>30582</th>\n",
       "      <td>1076433</td>\n",
       "      <td>buddhism</td>\n",
       "      <td></td>\n",
       "      <td>0</td>\n",
       "    </tr>\n",
       "    <tr>\n",
       "      <th>27518</th>\n",
       "      <td>1068566</td>\n",
       "      <td>even more true stories: an intermediate reader</td>\n",
       "      <td>textformat=02&amp;gt;</td>\n",
       "      <td>1</td>\n",
       "    </tr>\n",
       "    <tr>\n",
       "      <th>26889</th>\n",
       "      <td>1066895</td>\n",
       "      <td>凤凰集</td>\n",
       "      <td>本集共收《在私塾》、《往事》、《常德的船》、《凤凰》等10篇散文。</td>\n",
       "      <td>1</td>\n",
       "    </tr>\n",
       "    <tr>\n",
       "      <th>27371</th>\n",
       "      <td>1068180</td>\n",
       "      <td>the visual guide to college composition</td>\n",
       "      <td>textformat=02&amp;gt;</td>\n",
       "      <td>1</td>\n",
       "    </tr>\n",
       "    <tr>\n",
       "      <th>8278</th>\n",
       "      <td>1020547</td>\n",
       "      <td>newuniversal volume 1: everything went white</td>\n",
       "      <td>undefined</td>\n",
       "      <td>1</td>\n",
       "    </tr>\n",
       "    <tr>\n",
       "      <th>24941</th>\n",
       "      <td>1062171</td>\n",
       "      <td>middlemarch: in half the time</td>\n",
       "      <td>abridged</td>\n",
       "      <td>1</td>\n",
       "    </tr>\n",
       "    <tr>\n",
       "      <th>17626</th>\n",
       "      <td>1043889</td>\n",
       "      <td>to the nines (stephanie plum, #9)</td>\n",
       "      <td>1-59397-748-4</td>\n",
       "      <td>1</td>\n",
       "    </tr>\n",
       "    <tr>\n",
       "      <th>28889</th>\n",
       "      <td>1072133</td>\n",
       "      <td>frequently asked questions about being gifted</td>\n",
       "      <td>##############################################...</td>\n",
       "      <td>1</td>\n",
       "    </tr>\n",
       "    <tr>\n",
       "      <th>28887</th>\n",
       "      <td>1072128</td>\n",
       "      <td>frequently asked questions about stuttering</td>\n",
       "      <td>##############################################...</td>\n",
       "      <td>1</td>\n",
       "    </tr>\n",
       "  </tbody>\n",
       "</table>\n",
       "</div>"
      ],
      "text/plain": [
       "            Id                                            Name  \\\n",
       "2327   1005785              tag-along tails: ring tailed lemur   \n",
       "30582  1076433                                        buddhism   \n",
       "27518  1068566  even more true stories: an intermediate reader   \n",
       "26889  1066895                                             凤凰集   \n",
       "27371  1068180         the visual guide to college composition   \n",
       "8278   1020547    newuniversal volume 1: everything went white   \n",
       "24941  1062171                   middlemarch: in half the time   \n",
       "17626  1043889               to the nines (stephanie plum, #9)   \n",
       "28889  1072133   frequently asked questions about being gifted   \n",
       "28887  1072128     frequently asked questions about stuttering   \n",
       "\n",
       "                                             Description  length  \n",
       "2327                                                           0  \n",
       "30582                                                          0  \n",
       "27518                                  textformat=02&gt;       1  \n",
       "26889                  本集共收《在私塾》、《往事》、《常德的船》、《凤凰》等10篇散文。       1  \n",
       "27371                                  textformat=02&gt;       1  \n",
       "8278                                           undefined       1  \n",
       "24941                                           abridged       1  \n",
       "17626                                      1-59397-748-4       1  \n",
       "28889  ##############################################...       1  \n",
       "28887  ##############################################...       1  "
      ]
     },
     "execution_count": 229,
     "metadata": {},
     "output_type": "execute_result"
    }
   ],
   "source": [
    "eda_data[\"length\"] = [len(d.split()) for d in eda_data['Description'].tolist()]\n",
    "eda_data[eda_data.length.isin(range(0,4))][[\"Id\", \"Name\", \"Description\", \"length\"]]\\\n",
    ".sort_values(by=[\"length\"], ascending=True).head(10)"
   ]
  },
  {
   "cell_type": "markdown",
   "id": "bfa718e3-33b2-402c-8c7b-d700cfe69539",
   "metadata": {},
   "source": [
    "- As we have removed tags we see empty strings in the description, lets first convert them to NaN and then remove them"
   ]
  },
  {
   "cell_type": "code",
   "execution_count": 230,
   "id": "b82ff485-8046-4c59-ab9d-324df020158e",
   "metadata": {},
   "outputs": [
    {
     "data": {
      "text/html": [
       "<div>\n",
       "<style scoped>\n",
       "    .dataframe tbody tr th:only-of-type {\n",
       "        vertical-align: middle;\n",
       "    }\n",
       "\n",
       "    .dataframe tbody tr th {\n",
       "        vertical-align: top;\n",
       "    }\n",
       "\n",
       "    .dataframe thead th {\n",
       "        text-align: right;\n",
       "    }\n",
       "</style>\n",
       "<table border=\"1\" class=\"dataframe\">\n",
       "  <thead>\n",
       "    <tr style=\"text-align: right;\">\n",
       "      <th></th>\n",
       "      <th>Id</th>\n",
       "      <th>Name</th>\n",
       "      <th>Description</th>\n",
       "      <th>length</th>\n",
       "    </tr>\n",
       "  </thead>\n",
       "  <tbody>\n",
       "    <tr>\n",
       "      <th>2327</th>\n",
       "      <td>1005785</td>\n",
       "      <td>tag-along tails: ring tailed lemur</td>\n",
       "      <td>NaN</td>\n",
       "      <td>0</td>\n",
       "    </tr>\n",
       "    <tr>\n",
       "      <th>30582</th>\n",
       "      <td>1076433</td>\n",
       "      <td>buddhism</td>\n",
       "      <td>NaN</td>\n",
       "      <td>0</td>\n",
       "    </tr>\n",
       "    <tr>\n",
       "      <th>27518</th>\n",
       "      <td>1068566</td>\n",
       "      <td>even more true stories: an intermediate reader</td>\n",
       "      <td>textformat=02&amp;gt;</td>\n",
       "      <td>1</td>\n",
       "    </tr>\n",
       "    <tr>\n",
       "      <th>26889</th>\n",
       "      <td>1066895</td>\n",
       "      <td>凤凰集</td>\n",
       "      <td>本集共收《在私塾》、《往事》、《常德的船》、《凤凰》等10篇散文。</td>\n",
       "      <td>1</td>\n",
       "    </tr>\n",
       "    <tr>\n",
       "      <th>27371</th>\n",
       "      <td>1068180</td>\n",
       "      <td>the visual guide to college composition</td>\n",
       "      <td>textformat=02&amp;gt;</td>\n",
       "      <td>1</td>\n",
       "    </tr>\n",
       "  </tbody>\n",
       "</table>\n",
       "</div>"
      ],
      "text/plain": [
       "            Id                                            Name  \\\n",
       "2327   1005785              tag-along tails: ring tailed lemur   \n",
       "30582  1076433                                        buddhism   \n",
       "27518  1068566  even more true stories: an intermediate reader   \n",
       "26889  1066895                                             凤凰集   \n",
       "27371  1068180         the visual guide to college composition   \n",
       "\n",
       "                             Description  length  \n",
       "2327                                 NaN       0  \n",
       "30582                                NaN       0  \n",
       "27518                  textformat=02&gt;       1  \n",
       "26889  本集共收《在私塾》、《往事》、《常德的船》、《凤凰》等10篇散文。       1  \n",
       "27371                  textformat=02&gt;       1  "
      ]
     },
     "execution_count": 230,
     "metadata": {},
     "output_type": "execute_result"
    }
   ],
   "source": [
    "# Replace empty strings of description with NaN\n",
    "eda_data.Description = eda_data.Description.replace(r'^\\s*$', np.nan, regex=True)\n",
    "\n",
    "eda_data[eda_data.length.isin(range(0,4))][[\"Id\", \"Name\", \"Description\", \"length\"]]\\\n",
    ".sort_values(by=[\"length\"], ascending=True).head()"
   ]
  },
  {
   "cell_type": "code",
   "execution_count": 231,
   "id": "8d075575-4e2a-458c-970e-48694e542722",
   "metadata": {},
   "outputs": [
    {
     "data": {
      "text/html": [
       "<div>\n",
       "<style scoped>\n",
       "    .dataframe tbody tr th:only-of-type {\n",
       "        vertical-align: middle;\n",
       "    }\n",
       "\n",
       "    .dataframe tbody tr th {\n",
       "        vertical-align: top;\n",
       "    }\n",
       "\n",
       "    .dataframe thead th {\n",
       "        text-align: right;\n",
       "    }\n",
       "</style>\n",
       "<table border=\"1\" class=\"dataframe\">\n",
       "  <thead>\n",
       "    <tr style=\"text-align: right;\">\n",
       "      <th></th>\n",
       "      <th>Id</th>\n",
       "      <th>Name</th>\n",
       "      <th>Description</th>\n",
       "      <th>length</th>\n",
       "    </tr>\n",
       "  </thead>\n",
       "  <tbody>\n",
       "    <tr>\n",
       "      <th>27518</th>\n",
       "      <td>1068566</td>\n",
       "      <td>even more true stories: an intermediate reader</td>\n",
       "      <td>textformat=02&amp;gt;</td>\n",
       "      <td>1</td>\n",
       "    </tr>\n",
       "    <tr>\n",
       "      <th>36831</th>\n",
       "      <td>1092143</td>\n",
       "      <td>nighthawk f-117 stealth fighter</td>\n",
       "      <td>new</td>\n",
       "      <td>1</td>\n",
       "    </tr>\n",
       "    <tr>\n",
       "      <th>3850</th>\n",
       "      <td>1009448</td>\n",
       "      <td>las mil y una noches</td>\n",
       "      <td>anthology</td>\n",
       "      <td>1</td>\n",
       "    </tr>\n",
       "    <tr>\n",
       "      <th>26421</th>\n",
       "      <td>1065801</td>\n",
       "      <td>the bird lovers</td>\n",
       "      <td>drama.</td>\n",
       "      <td>1</td>\n",
       "    </tr>\n",
       "    <tr>\n",
       "      <th>5751</th>\n",
       "      <td>1013931</td>\n",
       "      <td>mixed feelings: feminism,  mass culture, and v...</td>\n",
       "      <td>.</td>\n",
       "      <td>1</td>\n",
       "    </tr>\n",
       "  </tbody>\n",
       "</table>\n",
       "</div>"
      ],
      "text/plain": [
       "            Id                                               Name  \\\n",
       "27518  1068566     even more true stories: an intermediate reader   \n",
       "36831  1092143                    nighthawk f-117 stealth fighter   \n",
       "3850   1009448                               las mil y una noches   \n",
       "26421  1065801                                    the bird lovers   \n",
       "5751   1013931  mixed feelings: feminism,  mass culture, and v...   \n",
       "\n",
       "             Description  length  \n",
       "27518  textformat=02&gt;       1  \n",
       "36831                new       1  \n",
       "3850           anthology       1  \n",
       "26421             drama.       1  \n",
       "5751                   .       1  "
      ]
     },
     "execution_count": 231,
     "metadata": {},
     "output_type": "execute_result"
    }
   ],
   "source": [
    "eda_data.dropna(subset=[\"Description\"], inplace=True)\n",
    "\n",
    "eda_data[eda_data.length.isin(range(0,4))][[\"Id\", \"Name\", \"Description\", \"length\"]]\\\n",
    ".sort_values(by=[\"length\"], ascending=True).head()"
   ]
  },
  {
   "cell_type": "code",
   "execution_count": 201,
   "id": "8227021d-97cf-4020-b0cc-39cf48992135",
   "metadata": {},
   "outputs": [
    {
     "name": "stdout",
     "output_type": "stream",
     "text": [
      "{'中古品につき多少のキズ・汚れ・日焼け等はありますが、状態は良好です。', 'poetry', 'vol. 1of 2', 'grades 6-12.', 'edition bilingue.', 'undefined', 'achtzehn beispielhafte bildergeschichten.', 'level a', '-- yasuhiro nakasone', 'drama.', '本集共收《在私塾》、《往事》、《常德的船》、《凤凰》等10篇散文。', '1-59397-748-4', 'noel polk, editor', '《文化、權力與國家:1900—1942年的華北農村》是美國學者杜贊奇的名著。杜贊奇（prasenjit duara），早年就學於印度，後赴美國求學，師從著名漢學大師孔飛力，現任美國芝加哥大學歷史學系及東亞語言文明系教授。其著作除本書外，還有廣為學界選舉的《從民族國家拯救歷史》。此兩書使杜贊奇成為名聞國際的漢學家。本書是以鄉村的文化網絡為基本結構並考察其功能力，作者主要利用日本南滿鐵道株式會社調查部編撰的《中國慣行調查報告》、南開大學經濟研究所在20世紀二三十年代所做的社會調查材料，以及中外學者已有的研究成果，通過細致的個案研究，向我們展示了1900—1942年間華北農村社會的政治經濟文化的一般狀況。作者力圖打通歷史學與社會學的間隔，提出了「國家政權建設」和「權力的文化網絡」兩個中心概念。作者認為，「國家政權建設」是一種全球性現象，作為一個概念，同更古老的「資本主義」等概念一樣，具有深遠的分析性含義。「權力的文化網絡」概念則吸收了西方學術界有關文化研究的成果，反對一些現代化論者用單一社會體系或一套所謂的「中國價值觀」去理解中國的觀點，同時也反對認為價值觀點交互感應的功能主義論者的學說。最重要的一點是，作者在書中貫穿了這樣一種方法:在考慮話語—主體—制度這三者對歷史的建構時，應加入許多外來事物和偶然因素，因為參與主體和主體性構成的不僅有話語，還有外來事物；而由主體構建的制度，還應包括制度本身的邏輯性和偶然性。本書曾先後榮獲1989年度的美國歷史學會費正清獎以及1900年度的亞洲研究學會列文森獎。', 'bild wissensbibliothek', 'anthology', 'none', 'collects daredevil #1-25', 'new', '=the understanding', 'twenty-two traditional rhymes.', 'ranma ½, #7.', 'book by', 'english and italian', 'publishers weekly', 'revised and updated', 'erlogen von loriot.', 'abridged', '###############################################################################################################################################################################################################################################################', 'one womanos charlottetown', 're-creation of landscape', 'print on demand', 'haynes.', '《洗澡》不是由一个主角贯连全部的小说，而是借一个政治运动作背景，写那个时期形形色色的知识分子。所以是个横断面；既没有史诗性的结构，也没有主角。本书第一部写新中国不拘一格收罗的人才，人物一一出场。第二部写这些人确实需要“洗澡”。第三部写运动中这群人各自不同的表现。“洗澡”没有得到预期的效果，原因是谁都没有自觉自愿。假如说，人是有灵性、有良知的动物，那么，人生一世，无非是认识自己，洗炼自己，自觉自愿地改造自己，除非甘心与禽兽无异。但是这又谈何容易呢？这部小说里，只有一两人自觉自愿地试图超拔自己。读者出于喜爱，往往把他们看作主角。', 'textformat=02&gt;', '.'}\n"
     ]
    }
   ],
   "source": [
    "print(set(eda_data.Description[eda_data.length.isin(range(0,4))]))"
   ]
  },
  {
   "cell_type": "code",
   "execution_count": 232,
   "id": "bd412510-10ca-4a4f-bc25-869fac070bf8",
   "metadata": {},
   "outputs": [
    {
     "name": "stdout",
     "output_type": "stream",
     "text": [
      "0\n"
     ]
    }
   ],
   "source": [
    "# Drop records with very short description\n",
    "eda_data.drop(eda_data.index[eda_data.length.isin(range(0,4))], inplace = True)\n",
    "print(eda_data[eda_data.length.isin(range(0,4))].shape[0])\n",
    "del eda_data[\"length\"]"
   ]
  },
  {
   "cell_type": "markdown",
   "id": "25228e87-2b54-4f3b-ad63-a5baadfb11c5",
   "metadata": {},
   "source": [
    "---\n",
    "### Find if there is duplication of rows/features"
   ]
  },
  {
   "cell_type": "code",
   "execution_count": 233,
   "id": "af36a971-7b0d-40ac-9aff-8f9a2eac7775",
   "metadata": {
    "tags": []
   },
   "outputs": [
    {
     "data": {
      "text/plain": [
       "0"
      ]
     },
     "execution_count": 233,
     "metadata": {},
     "output_type": "execute_result"
    }
   ],
   "source": [
    "# Find number of duplicated rows\n",
    "eda_data[eda_data.duplicated()==True].shape[0]"
   ]
  },
  {
   "cell_type": "code",
   "execution_count": 234,
   "id": "6641dcf3-5725-49b3-a52f-ad72e0e0cd6d",
   "metadata": {},
   "outputs": [
    {
     "data": {
      "text/plain": [
       "Id                 0\n",
       "Name             103\n",
       "Authors         9322\n",
       "ISBN              87\n",
       "Rating         34249\n",
       "PublishYear    34421\n",
       "Publisher      28480\n",
       "Language       34484\n",
       "Description      435\n",
       "dtype: int64"
      ]
     },
     "execution_count": 234,
     "metadata": {},
     "output_type": "execute_result"
    }
   ],
   "source": [
    "# Find number of duplicated values of each feature\n",
    "eda_data.shape[0] - eda_data.nunique()"
   ]
  },
  {
   "cell_type": "markdown",
   "id": "ea748df8-0a2e-4809-b0ca-42bf84ab5888",
   "metadata": {},
   "source": [
    "- We see that some descriptions are repeated this possibly could be due to different versions of the same book. ISBN has missing values. Repeated values in Authors, Publisher can help in book recommedation. "
   ]
  },
  {
   "cell_type": "code",
   "execution_count": 240,
   "id": "3bc691a4-9eaa-4a0d-a08b-1489271239fa",
   "metadata": {},
   "outputs": [
    {
     "data": {
      "text/html": [
       "<div>\n",
       "<style scoped>\n",
       "    .dataframe tbody tr th:only-of-type {\n",
       "        vertical-align: middle;\n",
       "    }\n",
       "\n",
       "    .dataframe tbody tr th {\n",
       "        vertical-align: top;\n",
       "    }\n",
       "\n",
       "    .dataframe thead th {\n",
       "        text-align: right;\n",
       "    }\n",
       "</style>\n",
       "<table border=\"1\" class=\"dataframe\">\n",
       "  <thead>\n",
       "    <tr style=\"text-align: right;\">\n",
       "      <th></th>\n",
       "      <th>Id</th>\n",
       "      <th>Name</th>\n",
       "      <th>Authors</th>\n",
       "      <th>ISBN</th>\n",
       "      <th>Rating</th>\n",
       "      <th>PublishYear</th>\n",
       "      <th>Publisher</th>\n",
       "      <th>Language</th>\n",
       "      <th>Description</th>\n",
       "    </tr>\n",
       "  </thead>\n",
       "  <tbody>\n",
       "    <tr>\n",
       "      <th>38129</th>\n",
       "      <td>1095704</td>\n",
       "      <td>thou shalt not think: the brutally frank guide...</td>\n",
       "      <td>david jack</td>\n",
       "      <td>1421899108</td>\n",
       "      <td>4.0</td>\n",
       "      <td>2007</td>\n",
       "      <td>1st world publishing</td>\n",
       "      <td>NaN</td>\n",
       "      <td>every once in awhile, there comes a book of su...</td>\n",
       "    </tr>\n",
       "    <tr>\n",
       "      <th>38130</th>\n",
       "      <td>1095708</td>\n",
       "      <td>thou shalt not think; the brutally frank guide...</td>\n",
       "      <td>david jack</td>\n",
       "      <td>1421899116</td>\n",
       "      <td>0.0</td>\n",
       "      <td>2007</td>\n",
       "      <td>1st world publishing</td>\n",
       "      <td>NaN</td>\n",
       "      <td>every once in awhile, there comes a book of su...</td>\n",
       "    </tr>\n",
       "  </tbody>\n",
       "</table>\n",
       "</div>"
      ],
      "text/plain": [
       "            Id                                               Name     Authors  \\\n",
       "38129  1095704  thou shalt not think: the brutally frank guide...  david jack   \n",
       "38130  1095708  thou shalt not think; the brutally frank guide...  david jack   \n",
       "\n",
       "             ISBN  Rating  PublishYear             Publisher Language  \\\n",
       "38129  1421899108     4.0         2007  1st world publishing      NaN   \n",
       "38130  1421899116     0.0         2007  1st world publishing      NaN   \n",
       "\n",
       "                                             Description  \n",
       "38129  every once in awhile, there comes a book of su...  \n",
       "38130  every once in awhile, there comes a book of su...  "
      ]
     },
     "execution_count": 240,
     "metadata": {},
     "output_type": "execute_result"
    }
   ],
   "source": [
    "eda_data[eda_data.duplicated(subset=\"Description\", keep=False)][[\"Id\",\"Name\", \"Authors\", \"Publisher\", \"Description\"]]\n",
    "eda_data[eda_data.Id.isin([1095704,1095708])]"
   ]
  },
  {
   "cell_type": "markdown",
   "id": "93ab93e3-e373-4049-b6a7-4b20b87cc339",
   "metadata": {
    "tags": []
   },
   "source": [
    "- We see that same books have different ISBN becuase an ISBN is assigned to each separate edition and variation of a publication. For example, an e-book, a paperback and a hardcover edition of the same book will each have a different ISBN (except reprintings).\n",
    "\n",
    "---\n",
    "### Drop variants of the books\n",
    "- Only keep variants where language is not null, if language is missing for all the variants then keep the first occurrence and delete rest."
   ]
  },
  {
   "cell_type": "code",
   "execution_count": 70,
   "id": "dc7672c9-7fed-4c50-bd2f-58b93a90b505",
   "metadata": {},
   "outputs": [],
   "source": [
    "eda_data = eda_data.sort_values(by=\"Language\", na_position='last').drop_duplicates(subset=['Description'], keep='first');"
   ]
  },
  {
   "cell_type": "code",
   "execution_count": 71,
   "id": "2faf375e-8317-4713-b4b0-25ac93225cf8",
   "metadata": {},
   "outputs": [
    {
     "data": {
      "text/plain": [
       "Id                 0\n",
       "Name               0\n",
       "Authors            0\n",
       "ISBN              84\n",
       "Rating             0\n",
       "PublishYear        0\n",
       "Publisher          0\n",
       "Language       27794\n",
       "Description        0\n",
       "dtype: int64"
      ]
     },
     "execution_count": 71,
     "metadata": {},
     "output_type": "execute_result"
    }
   ],
   "source": [
    "eda_data.isna().sum()"
   ]
  },
  {
   "cell_type": "markdown",
   "id": "ed1a25be-bad8-4ef5-a7e4-4d73d98e2d4e",
   "metadata": {
    "tags": []
   },
   "source": [
    "---\n",
    "### Extract book series information from the name of the book\n",
    "- Remove irrelevant info from the name of the book to improve efficiency of the tokenization.\n",
    "- Book names with hashtag represent edition of the book in a series"
   ]
  },
  {
   "cell_type": "code",
   "execution_count": 72,
   "id": "f625d354-6b93-400f-acf8-8f35a95fc5dc",
   "metadata": {},
   "outputs": [
    {
     "name": "stdout",
     "output_type": "stream",
     "text": [
      "\u001b[1mBook Name                                                                                 \u001b[0m\u001b[1mSeries Information\u001b[0m\n",
      "Sire Lines, Revised Edition (Blood-Horse Classics Library)                                nan  \n",
      "Patriot Games ((Blood-Horse Classics Library)) (Jack Ryan, #1; Jack Ryan Universe, #2)    ['Jack Ryan, #1', 'Jack Ryan Universe, #2']\n",
      "Oh, Cuan Lejos Llegaras! (Oh, the Places You'll Go!                                       nan  \n",
      "Ranma 1/2, Vol. 28 (Ranma ½ (US 2nd), #28)                                                ['US 2nd), #28']\n",
      "Fairy Realm edition, #1-3 (Fairy Realm, #1-3)                                             ['Fairy Realm, #1-3']\n",
      "Fairy Realm edition, #1.3 (Fairy Realm, #1.3)                                             ['Fairy Realm, #1.3']\n",
      "The Best Catch In Texas (Men of the West, #10) (Silhouette Special Edition #1814)         ['Men of the West, #10', 'Silhouette Special Edition #1814']\n",
      "Codes: How to Make Them and Break Them (Murderous Maths, # 14)                            ['Murderous Maths, # 14']\n",
      "Lovers and Ladies (Lovers and Ladies, #5&6)                                               ['Lovers and Ladies, #5&6']\n"
     ]
    }
   ],
   "source": [
    "series_pattern =  \"(?:[;]\\s*|\\(\\s*)([^\\(;]*\\s*#\\s*\\d+(?:\\.?\\d+|\\\\&\\d+|-?\\d*))\"\n",
    "def get_book_series_info(text):\n",
    "    series_info = re.findall(series_pattern, text)\n",
    "    return series_info if series_info else np.nan\n",
    "\n",
    "eda_data['BookSeriesInfo'] = eda_data.Name.apply(get_book_series_info)\n",
    "\n",
    "book_name_cases = [\"Sire Lines, Revised Edition (Blood-Horse Classics Library)\", \n",
    "                   \"Patriot Games ((Blood-Horse Classics Library)) (Jack Ryan, #1; Jack Ryan Universe, #2)\",\n",
    "                   \"Oh, Cuan Lejos Llegaras! (Oh, the Places You'll Go!\", \"Ranma 1/2, Vol. 28 (Ranma ½ (US 2nd), #28)\", \n",
    "                   \"Fairy Realm edition, #1-3 (Fairy Realm, #1-3)\", \"Fairy Realm edition, #1.3 (Fairy Realm, #1.3)\", \n",
    "                   \"The Best Catch In Texas (Men of the West, #10) (Silhouette Special Edition #1814)\",\n",
    "                   \"Codes: How to Make Them and Break Them (Murderous Maths, # 14)\",\n",
    "                   \"Lovers and Ladies (Lovers and Ladies, #5&6)\"]\n",
    "\n",
    "print(\"\\033[1m{:90}\\033[0m\\033[1m{:5}\\033[0m\".format(\"Book Name\", \"Series Information\"))\n",
    "for name in book_name_cases:\n",
    "    print(\"{!s:90}{!s:5}\".format(name, get_book_series_info(name)))\n"
   ]
  },
  {
   "cell_type": "markdown",
   "id": "d88c2d44-ed2f-43a7-b5b2-68028aabe149",
   "metadata": {},
   "source": [
    "- As we are using regex there will be certain exceptions, for example it misses a book name with nested brackets case. The name of the book is \"Ranma 1/2, Vol. 28 (Ranma ½ (US 2nd), #28)\", it should extract series information as `Ranma ½ (US 2nd), #28]`, instead, it extracts `[US 2nd), #28]`"
   ]
  },
  {
   "cell_type": "code",
   "execution_count": 73,
   "id": "2e4eace4-1bdd-4213-ac99-1e23099b47c9",
   "metadata": {},
   "outputs": [
    {
     "data": {
      "text/html": [
       "<div>\n",
       "<style scoped>\n",
       "    .dataframe tbody tr th:only-of-type {\n",
       "        vertical-align: middle;\n",
       "    }\n",
       "\n",
       "    .dataframe tbody tr th {\n",
       "        vertical-align: top;\n",
       "    }\n",
       "\n",
       "    .dataframe thead th {\n",
       "        text-align: right;\n",
       "    }\n",
       "</style>\n",
       "<table border=\"1\" class=\"dataframe\">\n",
       "  <thead>\n",
       "    <tr style=\"text-align: right;\">\n",
       "      <th></th>\n",
       "      <th>Id</th>\n",
       "      <th>Name</th>\n",
       "      <th>BookSeriesInfo</th>\n",
       "    </tr>\n",
       "  </thead>\n",
       "  <tbody>\n",
       "    <tr>\n",
       "      <th>1716</th>\n",
       "      <td>1004093</td>\n",
       "      <td>Dime Store Magic (Women of the Otherworld, #3)</td>\n",
       "      <td>[Women of the Otherworld, #3]</td>\n",
       "    </tr>\n",
       "    <tr>\n",
       "      <th>4994</th>\n",
       "      <td>1012314</td>\n",
       "      <td>Pippa the Poppy Fairy (Rainbow Magic: Petal Fa...</td>\n",
       "      <td>[Rainbow Magic: Petal Fairies, #2]</td>\n",
       "    </tr>\n",
       "    <tr>\n",
       "      <th>30537</th>\n",
       "      <td>1076336</td>\n",
       "      <td>Babel Tower (The Frederica Quartet, #3)</td>\n",
       "      <td>[The Frederica Quartet, #3]</td>\n",
       "    </tr>\n",
       "    <tr>\n",
       "      <th>23815</th>\n",
       "      <td>1059473</td>\n",
       "      <td>Oliver's Vegetables (Oliver, #3)</td>\n",
       "      <td>[Oliver, #3]</td>\n",
       "    </tr>\n",
       "    <tr>\n",
       "      <th>8563</th>\n",
       "      <td>1021244</td>\n",
       "      <td>Piratica (Piratica, #1)</td>\n",
       "      <td>[Piratica, #1]</td>\n",
       "    </tr>\n",
       "    <tr>\n",
       "      <th>...</th>\n",
       "      <td>...</td>\n",
       "      <td>...</td>\n",
       "      <td>...</td>\n",
       "    </tr>\n",
       "    <tr>\n",
       "      <th>39162</th>\n",
       "      <td>1098524</td>\n",
       "      <td>A Coin for the Ferryman (Libertus Mystery of R...</td>\n",
       "      <td>[Libertus Mystery of Roman Britain, #9]</td>\n",
       "    </tr>\n",
       "    <tr>\n",
       "      <th>39171</th>\n",
       "      <td>1098564</td>\n",
       "      <td>Honour Be Damned (Markham of the Marines, #3)</td>\n",
       "      <td>[Markham of the Marines, #3]</td>\n",
       "    </tr>\n",
       "    <tr>\n",
       "      <th>39436</th>\n",
       "      <td>1099274</td>\n",
       "      <td>You Slay Me (Aisling Grey: Guardian, #1)</td>\n",
       "      <td>[Aisling Grey: Guardian, #1]</td>\n",
       "    </tr>\n",
       "    <tr>\n",
       "      <th>39437</th>\n",
       "      <td>1099275</td>\n",
       "      <td>Light My Fire (Aisling Grey: Guardian, #3)</td>\n",
       "      <td>[Aisling Grey: Guardian, #3]</td>\n",
       "    </tr>\n",
       "    <tr>\n",
       "      <th>39539</th>\n",
       "      <td>1099554</td>\n",
       "      <td>Break No Bones (Temperance Brennan, #9)</td>\n",
       "      <td>[Temperance Brennan, #9]</td>\n",
       "    </tr>\n",
       "  </tbody>\n",
       "</table>\n",
       "<p>2093 rows × 3 columns</p>\n",
       "</div>"
      ],
      "text/plain": [
       "            Id                                               Name  \\\n",
       "1716   1004093     Dime Store Magic (Women of the Otherworld, #3)   \n",
       "4994   1012314  Pippa the Poppy Fairy (Rainbow Magic: Petal Fa...   \n",
       "30537  1076336            Babel Tower (The Frederica Quartet, #3)   \n",
       "23815  1059473                   Oliver's Vegetables (Oliver, #3)   \n",
       "8563   1021244                            Piratica (Piratica, #1)   \n",
       "...        ...                                                ...   \n",
       "39162  1098524  A Coin for the Ferryman (Libertus Mystery of R...   \n",
       "39171  1098564      Honour Be Damned (Markham of the Marines, #3)   \n",
       "39436  1099274           You Slay Me (Aisling Grey: Guardian, #1)   \n",
       "39437  1099275         Light My Fire (Aisling Grey: Guardian, #3)   \n",
       "39539  1099554            Break No Bones (Temperance Brennan, #9)   \n",
       "\n",
       "                                BookSeriesInfo  \n",
       "1716             [Women of the Otherworld, #3]  \n",
       "4994        [Rainbow Magic: Petal Fairies, #2]  \n",
       "30537              [The Frederica Quartet, #3]  \n",
       "23815                             [Oliver, #3]  \n",
       "8563                            [Piratica, #1]  \n",
       "...                                        ...  \n",
       "39162  [Libertus Mystery of Roman Britain, #9]  \n",
       "39171             [Markham of the Marines, #3]  \n",
       "39436             [Aisling Grey: Guardian, #1]  \n",
       "39437             [Aisling Grey: Guardian, #3]  \n",
       "39539                 [Temperance Brennan, #9]  \n",
       "\n",
       "[2093 rows x 3 columns]"
      ]
     },
     "execution_count": 73,
     "metadata": {},
     "output_type": "execute_result"
    }
   ],
   "source": [
    "eda_data[[\"Id\",\"Name\", \"BookSeriesInfo\"]][eda_data.BookSeriesInfo.isna() == False]"
   ]
  },
  {
   "cell_type": "code",
   "execution_count": 74,
   "id": "c8d32a1b-acdd-46f4-bc9f-2bce3f5165f5",
   "metadata": {},
   "outputs": [
    {
     "data": {
      "text/plain": [
       "Id                    0\n",
       "Name                  0\n",
       "Authors               0\n",
       "ISBN                 84\n",
       "Rating                0\n",
       "PublishYear           0\n",
       "Publisher             0\n",
       "Language          27794\n",
       "Description           0\n",
       "BookSeriesInfo    31994\n",
       "dtype: int64"
      ]
     },
     "execution_count": 74,
     "metadata": {},
     "output_type": "execute_result"
    }
   ],
   "source": [
    "eda_data.isna().sum()"
   ]
  },
  {
   "cell_type": "markdown",
   "id": "b0175567-9b2d-48a6-aa42-1ff7cf6f245c",
   "metadata": {},
   "source": [
    "---\n",
    "### Remove the series info from the name of the book"
   ]
  },
  {
   "cell_type": "code",
   "execution_count": 75,
   "id": "e4f6f8bb-9d12-4aad-bc98-436ee01637eb",
   "metadata": {},
   "outputs": [
    {
     "name": "stdout",
     "output_type": "stream",
     "text": [
      "\u001b[1mBook Name                                                                                 \u001b[0m\u001b[1mSeries Information\u001b[0m\n",
      "Sire Lines, Revised Edition (Blood-Horse Classics Library)                                Sire Lines, Revised Edition (Blood-Horse Classics Library)\n",
      "Patriot Games ((Blood-Horse Classics Library)) (Jack Ryan, #1; Jack Ryan Universe, #2)    Patriot Games ((Blood-Horse Classics Library)) \n",
      "Oh, Cuan Lejos Llegaras! (Oh, the Places You'll Go!                                       Oh, Cuan Lejos Llegaras! (Oh, the Places You'll Go!\n",
      "Ranma 1/2, Vol. 28 (Ranma ½ (US 2nd), #28)                                                Ranma 1/2, Vol. 28 (Ranma ½ \n",
      "Fairy Realm edition, #1-3 (Fairy Realm, #1-3)                                             Fairy Realm edition, #1-3 \n",
      "Fairy Realm edition, #1.3 (Fairy Realm, #1.3)                                             Fairy Realm edition, #1.3 \n",
      "The Best Catch In Texas (Men of the West, #10) (Silhouette Special Edition #1814)         The Best Catch In Texas  \n",
      "Codes: How to Make Them and Break Them (Murderous Maths, # 14)                            Codes: How to Make Them and Break Them \n",
      "Lovers and Ladies (Lovers and Ladies, #5&6)                                               Lovers and Ladies \n"
     ]
    }
   ],
   "source": [
    "series_remove_pattern = re.compile(\"(?:[\\(]\\s*[^\\(;]*\\s*#\\s*\\d+(?:\\.?\\d+|\\\\&\\d+|-?\\d*)(?:;|\\))|\\s*[^\\(;]*\\s*#\\s*\\d+(?:\\.?\\d+|\\\\&\\d+|-?\\d*)\\))\")       \n",
    "def remove_series_info(text):\n",
    "    return re.sub(series_remove_pattern, r'', text)\n",
    "\n",
    "print(\"\\033[1m{:90}\\033[0m\\033[1m{:5}\\033[0m\".format(\"Book Name\", \"Series Information\"))\n",
    "for name in book_name_cases:\n",
    "    print(\"{!s:90}{!s:5}\".format(name, remove_series_info(name)))\n",
    "\n",
    "eda_data[\"Name\"]= eda_data[\"Name\"].str.replace(series_remove_pattern, r'').str.strip()"
   ]
  },
  {
   "cell_type": "markdown",
   "id": "0da51ca0-bcbe-4f8a-b3d9-c65e35850f31",
   "metadata": {},
   "source": [
    "---\n",
    "### Impute missing language with book title language"
   ]
  },
  {
   "cell_type": "code",
   "execution_count": null,
   "id": "d77f67ad-0eb0-48ad-bc1e-c0c3a4a91310",
   "metadata": {},
   "outputs": [],
   "source": [
    "# import numpy as np\n",
    "# from nltk.classify.textcat import TextCat\n",
    "# tc = TextCat()\n",
    "# def detect_language(text):\n",
    "#     # print(text, end=\"\\t\")\n",
    "#     # Guess language using first five words\n",
    "#     text = \" \".join(text.split()[:5])\n",
    "#     if text.isnumeric():\n",
    "#         # print(\"---NUMERIC---\")\n",
    "#         # print(\"eng\")\n",
    "#         return 'eng'\n",
    "#     else:\n",
    "#         # print(tc.guess_language(text).strip())\n",
    "#         return tc.guess_language(text).strip()\n",
    "# eda_data['Language'] = eda_data.apply(lambda x: detect_language(x['Name']) if pd.isna(x['Language']) else x['Language'], axis=1)"
   ]
  },
  {
   "cell_type": "markdown",
   "id": "608e06b6-269b-46ec-bfec-ce80b5107740",
   "metadata": {},
   "source": [
    "---\n",
    "### Save Preprocessed Data"
   ]
  },
  {
   "cell_type": "code",
   "execution_count": null,
   "id": "02987dde-d4b7-426d-9b5e-060fce3217f2",
   "metadata": {},
   "outputs": [],
   "source": [
    "eda_data.to_csv(\"data/preprocessed.csv\", sep=\",\", index=False)"
   ]
  },
  {
   "cell_type": "markdown",
   "id": "09c32733-a4aa-4c10-9360-d3b729747461",
   "metadata": {},
   "source": []
  },
  {
   "cell_type": "code",
   "execution_count": null,
   "id": "d8ce9966-3130-45d8-9244-1b9e170a22c7",
   "metadata": {},
   "outputs": [],
   "source": []
  },
  {
   "cell_type": "code",
   "execution_count": null,
   "id": "011ef412-ff7a-4168-ac0a-505617af11a4",
   "metadata": {},
   "outputs": [],
   "source": []
  }
 ],
 "metadata": {
  "kernelspec": {
   "display_name": "Python 3 (ipykernel)",
   "language": "python",
   "name": "python3"
  },
  "language_info": {
   "codemirror_mode": {
    "name": "ipython",
    "version": 3
   },
   "file_extension": ".py",
   "mimetype": "text/x-python",
   "name": "python",
   "nbconvert_exporter": "python",
   "pygments_lexer": "ipython3",
   "version": "3.8.8"
  }
 },
 "nbformat": 4,
 "nbformat_minor": 5
}
